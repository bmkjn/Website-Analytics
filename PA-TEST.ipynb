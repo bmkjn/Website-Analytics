{
 "cells": [
  {
   "cell_type": "code",
   "execution_count": 198,
   "id": "4850cd33",
   "metadata": {},
   "outputs": [],
   "source": [
    "import pandas as pd"
   ]
  },
  {
   "cell_type": "code",
   "execution_count": 199,
   "id": "a568f01a",
   "metadata": {},
   "outputs": [],
   "source": [
    "spreadsheet = pd.read_csv('/Users/bhumikajain/Downloads/user_interactions.csv')"
   ]
  },
  {
   "cell_type": "code",
   "execution_count": 200,
   "id": "9188dbcc",
   "metadata": {},
   "outputs": [
    {
     "name": "stdout",
     "output_type": "stream",
     "text": [
      "        User_ID    Page_Viewed  Time_Spent_Seconds\n",
      "0     User_3198       Homepage                 560\n",
      "1      User_126  Category Page                 168\n",
      "2     User_1376  Category Page                 122\n",
      "3     User_1117      Cart Page                 329\n",
      "4     User_3683  Category Page                 391\n",
      "...         ...            ...                 ...\n",
      "4995  User_3045  Checkout Page                 284\n",
      "4996  User_1583      Cart Page                 322\n",
      "4997  User_2627  Checkout Page                 559\n",
      "4998  User_4976   Product Page                 373\n",
      "4999  User_1770       Homepage                 104\n",
      "\n",
      "[5000 rows x 3 columns]\n"
     ]
    }
   ],
   "source": [
    "print(spreadsheet)"
   ]
  },
  {
   "cell_type": "code",
   "execution_count": 201,
   "id": "dc9dd44e",
   "metadata": {},
   "outputs": [],
   "source": [
    "bool_series = pd.isnull(spreadsheet[\"Time_Spent_Seconds\"]) "
   ]
  },
  {
   "cell_type": "code",
   "execution_count": 202,
   "id": "ac9ecf67",
   "metadata": {},
   "outputs": [
    {
     "data": {
      "text/html": [
       "<div>\n",
       "<style scoped>\n",
       "    .dataframe tbody tr th:only-of-type {\n",
       "        vertical-align: middle;\n",
       "    }\n",
       "\n",
       "    .dataframe tbody tr th {\n",
       "        vertical-align: top;\n",
       "    }\n",
       "\n",
       "    .dataframe thead th {\n",
       "        text-align: right;\n",
       "    }\n",
       "</style>\n",
       "<table border=\"1\" class=\"dataframe\">\n",
       "  <thead>\n",
       "    <tr style=\"text-align: right;\">\n",
       "      <th></th>\n",
       "      <th>User_ID</th>\n",
       "      <th>Page_Viewed</th>\n",
       "      <th>Time_Spent_Seconds</th>\n",
       "    </tr>\n",
       "  </thead>\n",
       "  <tbody>\n",
       "  </tbody>\n",
       "</table>\n",
       "</div>"
      ],
      "text/plain": [
       "Empty DataFrame\n",
       "Columns: [User_ID, Page_Viewed, Time_Spent_Seconds]\n",
       "Index: []"
      ]
     },
     "execution_count": 202,
     "metadata": {},
     "output_type": "execute_result"
    }
   ],
   "source": [
    "spreadsheet[bool_series] "
   ]
  },
  {
   "cell_type": "code",
   "execution_count": 203,
   "id": "3823349b",
   "metadata": {},
   "outputs": [],
   "source": [
    "bool_series = pd.isnull(spreadsheet[\"Page_Viewed\"]) "
   ]
  },
  {
   "cell_type": "code",
   "execution_count": 204,
   "id": "e978fd29",
   "metadata": {},
   "outputs": [
    {
     "data": {
      "text/html": [
       "<div>\n",
       "<style scoped>\n",
       "    .dataframe tbody tr th:only-of-type {\n",
       "        vertical-align: middle;\n",
       "    }\n",
       "\n",
       "    .dataframe tbody tr th {\n",
       "        vertical-align: top;\n",
       "    }\n",
       "\n",
       "    .dataframe thead th {\n",
       "        text-align: right;\n",
       "    }\n",
       "</style>\n",
       "<table border=\"1\" class=\"dataframe\">\n",
       "  <thead>\n",
       "    <tr style=\"text-align: right;\">\n",
       "      <th></th>\n",
       "      <th>User_ID</th>\n",
       "      <th>Page_Viewed</th>\n",
       "      <th>Time_Spent_Seconds</th>\n",
       "    </tr>\n",
       "  </thead>\n",
       "  <tbody>\n",
       "  </tbody>\n",
       "</table>\n",
       "</div>"
      ],
      "text/plain": [
       "Empty DataFrame\n",
       "Columns: [User_ID, Page_Viewed, Time_Spent_Seconds]\n",
       "Index: []"
      ]
     },
     "execution_count": 204,
     "metadata": {},
     "output_type": "execute_result"
    }
   ],
   "source": [
    "spreadsheet[bool_series] "
   ]
  },
  {
   "cell_type": "code",
   "execution_count": 205,
   "id": "8bd170f9",
   "metadata": {},
   "outputs": [],
   "source": [
    "bool_series = pd.isnull(spreadsheet[\"User_ID\"]) "
   ]
  },
  {
   "cell_type": "code",
   "execution_count": 206,
   "id": "f61e673c",
   "metadata": {},
   "outputs": [
    {
     "data": {
      "text/html": [
       "<div>\n",
       "<style scoped>\n",
       "    .dataframe tbody tr th:only-of-type {\n",
       "        vertical-align: middle;\n",
       "    }\n",
       "\n",
       "    .dataframe tbody tr th {\n",
       "        vertical-align: top;\n",
       "    }\n",
       "\n",
       "    .dataframe thead th {\n",
       "        text-align: right;\n",
       "    }\n",
       "</style>\n",
       "<table border=\"1\" class=\"dataframe\">\n",
       "  <thead>\n",
       "    <tr style=\"text-align: right;\">\n",
       "      <th></th>\n",
       "      <th>User_ID</th>\n",
       "      <th>Page_Viewed</th>\n",
       "      <th>Time_Spent_Seconds</th>\n",
       "    </tr>\n",
       "  </thead>\n",
       "  <tbody>\n",
       "  </tbody>\n",
       "</table>\n",
       "</div>"
      ],
      "text/plain": [
       "Empty DataFrame\n",
       "Columns: [User_ID, Page_Viewed, Time_Spent_Seconds]\n",
       "Index: []"
      ]
     },
     "execution_count": 206,
     "metadata": {},
     "output_type": "execute_result"
    }
   ],
   "source": [
    "spreadsheet[bool_series] "
   ]
  },
  {
   "cell_type": "markdown",
   "id": "b0b13546",
   "metadata": {},
   "source": [
    "It indicates that there are no missing values."
   ]
  },
  {
   "cell_type": "code",
   "execution_count": 207,
   "id": "a02a4408",
   "metadata": {},
   "outputs": [
    {
     "data": {
      "text/plain": [
       "<Axes: >"
      ]
     },
     "execution_count": 207,
     "metadata": {},
     "output_type": "execute_result"
    },
    {
     "data": {
      "image/png": "[encoded data removed]",
      "text/plain": [
       "<Figure size 640x480 with 1 Axes>"
      ]
     },
     "metadata": {},
     "output_type": "display_data"
    }
   ],
   "source": [
    "import seaborn as sns\n",
    "sns.boxplot(spreadsheet['Time_Spent_Seconds'])\n"
   ]
  },
  {
   "cell_type": "code",
   "execution_count": 208,
   "id": "1f7ee7be",
   "metadata": {},
   "outputs": [
    {
     "data": {
      "image/png": "[encoded data removed]",
      "text/plain": [
       "<Figure size 600x400 with 1 Axes>"
      ]
     },
     "metadata": {},
     "output_type": "display_data"
    }
   ],
   "source": [
    "from matplotlib import pyplot as plt\n",
    "fig, ax = plt.subplots(figsize = (6,4))\n",
    "ax.scatter(spreadsheet['Time_Spent_Seconds'],spreadsheet.index)\n",
    " \n",
    "# x-axis label\n",
    "ax.set_xlabel('Time spent')\n",
    " \n",
    "# y-axis label\n",
    "ax.set_ylabel('User')\n",
    "plt.show()"
   ]
  },
  {
   "cell_type": "markdown",
   "id": "71df13a6",
   "metadata": {},
   "source": [
    "The graph above was initially implemented to detect the presence of outliers; however, the data points are evenly distributed, indicating the absence of any outliers."
   ]
  },
  {
   "cell_type": "markdown",
   "id": "c6ead043",
   "metadata": {},
   "source": [
    "\n",
    "USER BEHAVIOUR ANALYSIS:\n"
   ]
  },
  {
   "cell_type": "code",
   "execution_count": 209,
   "id": "ff874d0b",
   "metadata": {},
   "outputs": [
    {
     "name": "stdout",
     "output_type": "stream",
     "text": [
      "Number of unique categories in the column: 5\n"
     ]
    }
   ],
   "source": [
    "unique_categories_count = spreadsheet['Page_Viewed'].nunique()\n",
    "print(\"Number of unique categories in the column:\", unique_categories_count)"
   ]
  },
  {
   "cell_type": "code",
   "execution_count": 210,
   "id": "11272604",
   "metadata": {},
   "outputs": [
    {
     "data": {
      "image/png": "[encoded data removed]",
      "text/plain": [
       "<Figure size 800x600 with 1 Axes>"
      ]
     },
     "metadata": {},
     "output_type": "display_data"
    }
   ],
   "source": [
    "grouped_df = spreadsheet.groupby('Page_Viewed')['Time_Spent_Seconds'].sum()\n",
    "\n",
    "# Plot the results\n",
    "fig, ax = plt.subplots(figsize=(8, 6))\n",
    "grouped_df.plot(kind='bar', ax=ax)\n",
    "\n",
    "# Customize the plot\n",
    "ax.set_xlabel('Category of Pages')\n",
    "ax.set_ylabel('Time Spent by users')\n",
    "ax.set_title('Total time spent on Each page')\n",
    "\n",
    "plt.show()"
   ]
  },
  {
   "cell_type": "markdown",
   "id": "774ee24a",
   "metadata": {},
   "source": [
    "The graph displayed above represents the distribution of total time spent by users on each page of the website. It reveals that the home page garners the highest amount of user engagement, followed by the cart page and checkout page."
   ]
  },
  {
   "cell_type": "code",
   "execution_count": 211,
   "id": "f9ca757f",
   "metadata": {},
   "outputs": [
    {
     "name": "stdout",
     "output_type": "stream",
     "text": [
      "Page_Viewed\n",
      "Cart Page        302.819404\n",
      "Category Page    297.839506\n",
      "Checkout Page    306.760364\n",
      "Homepage         310.215311\n",
      "Product Page     304.562434\n",
      "Name: Time_Spent_Seconds, dtype: float64\n"
     ]
    }
   ],
   "source": [
    "# Step 1: Grouping by Page\n",
    "grouped_by_page = spreadsheet.groupby('Page_Viewed')\n",
    "\n",
    "# Step 2: Calculating Average Time Spent\n",
    "avg_time_spent_per_page = grouped_by_page['Time_Spent_Seconds'].mean()\n",
    "\n",
    "# Display the result\n",
    "print(avg_time_spent_per_page)"
   ]
  },
  {
   "cell_type": "markdown",
   "id": "066e6736",
   "metadata": {},
   "source": [
    "To calculate the Click through rate for each section of website we need information such as The number of clicks divided by the number of interactions for a section. As we do not have number of clicks we assume a click event as true if time spent is greater than 50 seconds."
   ]
  },
  {
   "cell_type": "code",
   "execution_count": 212,
   "id": "d431d35e",
   "metadata": {},
   "outputs": [
    {
     "data": {
      "text/html": [
       "<div>\n",
       "<style scoped>\n",
       "    .dataframe tbody tr th:only-of-type {\n",
       "        vertical-align: middle;\n",
       "    }\n",
       "\n",
       "    .dataframe tbody tr th {\n",
       "        vertical-align: top;\n",
       "    }\n",
       "\n",
       "    .dataframe thead th {\n",
       "        text-align: right;\n",
       "    }\n",
       "</style>\n",
       "<table border=\"1\" class=\"dataframe\">\n",
       "  <thead>\n",
       "    <tr style=\"text-align: right;\">\n",
       "      <th></th>\n",
       "      <th>User_ID</th>\n",
       "      <th>Page_Viewed</th>\n",
       "      <th>Time_Spent_Seconds</th>\n",
       "      <th>click_event</th>\n",
       "    </tr>\n",
       "  </thead>\n",
       "  <tbody>\n",
       "    <tr>\n",
       "      <th>0</th>\n",
       "      <td>User_3198</td>\n",
       "      <td>Homepage</td>\n",
       "      <td>560</td>\n",
       "      <td>True</td>\n",
       "    </tr>\n",
       "    <tr>\n",
       "      <th>1</th>\n",
       "      <td>User_126</td>\n",
       "      <td>Category Page</td>\n",
       "      <td>168</td>\n",
       "      <td>True</td>\n",
       "    </tr>\n",
       "    <tr>\n",
       "      <th>2</th>\n",
       "      <td>User_1376</td>\n",
       "      <td>Category Page</td>\n",
       "      <td>122</td>\n",
       "      <td>True</td>\n",
       "    </tr>\n",
       "    <tr>\n",
       "      <th>3</th>\n",
       "      <td>User_1117</td>\n",
       "      <td>Cart Page</td>\n",
       "      <td>329</td>\n",
       "      <td>True</td>\n",
       "    </tr>\n",
       "    <tr>\n",
       "      <th>4</th>\n",
       "      <td>User_3683</td>\n",
       "      <td>Category Page</td>\n",
       "      <td>391</td>\n",
       "      <td>True</td>\n",
       "    </tr>\n",
       "  </tbody>\n",
       "</table>\n",
       "</div>"
      ],
      "text/plain": [
       "     User_ID    Page_Viewed  Time_Spent_Seconds  click_event\n",
       "0  User_3198       Homepage                 560         True\n",
       "1   User_126  Category Page                 168         True\n",
       "2  User_1376  Category Page                 122         True\n",
       "3  User_1117      Cart Page                 329         True\n",
       "4  User_3683  Category Page                 391         True"
      ]
     },
     "execution_count": 212,
     "metadata": {},
     "output_type": "execute_result"
    }
   ],
   "source": [
    "# Step 1: Define the session duration threshold \n",
    "threshold = 10\n",
    "\n",
    "# Step 2: Identify click events based on session duration\n",
    "spreadsheet['click_event'] = spreadsheet['Time_Spent_Seconds'] > threshold\n",
    "\n",
    "spreadsheet.head()"
   ]
  },
  {
   "cell_type": "code",
   "execution_count": 213,
   "id": "395d6b7f",
   "metadata": {},
   "outputs": [
    {
     "name": "stdout",
     "output_type": "stream",
     "text": [
      "Group: Cart Page\n",
      "        User_ID Page_Viewed  Time_Spent_Seconds  click_event\n",
      "3     User_1117   Cart Page                 329         True\n",
      "6     User_4461   Cart Page                 146         True\n",
      "7      User_435   Cart Page                 335         True\n",
      "11    User_2527   Cart Page                 565         True\n",
      "14    User_3250   Cart Page                 111         True\n",
      "...         ...         ...                 ...          ...\n",
      "4971   User_466   Cart Page                 326         True\n",
      "4982  User_2636   Cart Page                 513         True\n",
      "4991  User_3444   Cart Page                 486         True\n",
      "4994  User_1436   Cart Page                 550         True\n",
      "4996  User_1583   Cart Page                 322         True\n",
      "\n",
      "[1041 rows x 4 columns]\n",
      "\n",
      "Group: Category Page\n",
      "        User_ID    Page_Viewed  Time_Spent_Seconds  click_event\n",
      "1      User_126  Category Page                 168         True\n",
      "2     User_1376  Category Page                 122         True\n",
      "4     User_3683  Category Page                 391         True\n",
      "16    User_1103  Category Page                  48         True\n",
      "18    User_4048  Category Page                 536         True\n",
      "...         ...            ...                 ...          ...\n",
      "4957  User_1493  Category Page                 426         True\n",
      "4976  User_2137  Category Page                 563         True\n",
      "4979   User_673  Category Page                 568         True\n",
      "4984  User_3480  Category Page                 151         True\n",
      "4993  User_4932  Category Page                  73         True\n",
      "\n",
      "[972 rows x 4 columns]\n",
      "\n",
      "Group: Checkout Page\n",
      "        User_ID    Page_Viewed  Time_Spent_Seconds  click_event\n",
      "8     User_2110  Checkout Page                 570         True\n",
      "13     User_995  Checkout Page                 311         True\n",
      "15    User_2725  Checkout Page                 506         True\n",
      "37    User_3093  Checkout Page                 528         True\n",
      "42    User_1140  Checkout Page                 389         True\n",
      "...         ...            ...                 ...          ...\n",
      "4977  User_2753  Checkout Page                 586         True\n",
      "4978  User_1465  Checkout Page                 222         True\n",
      "4985  User_3061  Checkout Page                 573         True\n",
      "4995  User_3045  Checkout Page                 284         True\n",
      "4997  User_2627  Checkout Page                 559         True\n",
      "\n",
      "[989 rows x 4 columns]\n",
      "\n",
      "Group: Homepage\n",
      "        User_ID Page_Viewed  Time_Spent_Seconds  click_event\n",
      "0     User_3198    Homepage                 560         True\n",
      "5     User_3384    Homepage                  44         True\n",
      "9      User_149    Homepage                 481         True\n",
      "10    User_1094    Homepage                 401         True\n",
      "12     User_133    Homepage                 573         True\n",
      "...         ...         ...                 ...          ...\n",
      "4981  User_1373    Homepage                 102         True\n",
      "4983  User_2624    Homepage                  47         True\n",
      "4987  User_3649    Homepage                 173         True\n",
      "4992  User_4670    Homepage                  23         True\n",
      "4999  User_1770    Homepage                 104         True\n",
      "\n",
      "[1045 rows x 4 columns]\n",
      "\n",
      "Group: Product Page\n",
      "        User_ID   Page_Viewed  Time_Spent_Seconds  click_event\n",
      "17    User_2947  Product Page                 458         True\n",
      "21    User_3491  Product Page                 180         True\n",
      "22    User_1702  Product Page                 313         True\n",
      "24    User_4787  Product Page                 196         True\n",
      "26     User_464  Product Page                 183         True\n",
      "...         ...           ...                 ...          ...\n",
      "4986   User_547  Product Page                  64         True\n",
      "4988  User_3145  Product Page                 272         True\n",
      "4989  User_4936  Product Page                  80         True\n",
      "4990  User_2419  Product Page                 475         True\n",
      "4998  User_4976  Product Page                 373         True\n",
      "\n",
      "[953 rows x 4 columns]\n",
      "\n"
     ]
    }
   ],
   "source": [
    "# Step 3: Group by 'page_viewed' to calculate CTR for each section\n",
    "grouped_by_section = spreadsheet.groupby('Page_Viewed')\n",
    "for name, group in grouped_by_section:\n",
    "    print(f\"Group: {name}\")\n",
    "    print(group)\n",
    "    print()\n"
   ]
  },
  {
   "cell_type": "code",
   "execution_count": 214,
   "id": "3b356b5d",
   "metadata": {},
   "outputs": [
    {
     "name": "stdout",
     "output_type": "stream",
     "text": [
      "Page_Viewed\n",
      "Cart Page        100.000000\n",
      "Category Page     99.588477\n",
      "Checkout Page     99.898888\n",
      "Homepage          99.808612\n",
      "Product Page      99.790136\n",
      "dtype: float64\n"
     ]
    }
   ],
   "source": [
    "# Step 4: Calculate the total clicks and total interactions for each section\n",
    "total_clicks = grouped_by_section['click_event'].sum()\n",
    "total_interactions = grouped_by_section.size()\n",
    "\n",
    "# Step 5: Calculate CTR for each section\n",
    "ctr = (total_clicks / total_interactions) * 100\n",
    "\n",
    "# Display the result\n",
    "print(ctr)"
   ]
  },
  {
   "cell_type": "markdown",
   "id": "320acade",
   "metadata": {},
   "source": [
    "PURCHASE ANALYSIS:"
   ]
  },
  {
   "cell_type": "code",
   "execution_count": 215,
   "id": "3ff21200",
   "metadata": {},
   "outputs": [],
   "source": [
    "df = pd.read_csv('/Users/bhumikajain/Downloads/purchase_data.csv')"
   ]
  },
  {
   "cell_type": "code",
   "execution_count": 216,
   "id": "b6231709",
   "metadata": {},
   "outputs": [
    {
     "name": "stdout",
     "output_type": "stream",
     "text": [
      "      Purchase_ID    User_ID  Product_ID  Transaction_Amount   \n",
      "0    Purchase_948  User_3840  Product_19           62.843031  \\\n",
      "1    Purchase_905  User_1846   Product_9           21.780079   \n",
      "2    Purchase_704  User_1700   Product_8          138.264455   \n",
      "3    Purchase_766  User_4117  Product_15           74.991367   \n",
      "4     Purchase_36  User_3053   Product_7          162.569998   \n",
      "..            ...        ...         ...                 ...   \n",
      "995  Purchase_489  User_2879  Product_14           47.047885   \n",
      "996  Purchase_741   User_588   Product_1           85.587089   \n",
      "997  Purchase_587  User_3821  Product_16          162.919467   \n",
      "998  Purchase_222  User_1804  Product_10           44.435545   \n",
      "999  Purchase_609  User_3364  Product_14          147.367700   \n",
      "\n",
      "           Purchase_Time  \n",
      "0    2023-04-02 16:35:46  \n",
      "1    2023-04-14 16:38:27  \n",
      "2    2023-01-21 11:21:31  \n",
      "3    2023-01-29 04:44:04  \n",
      "4    2023-05-24 03:30:23  \n",
      "..                   ...  \n",
      "995  2023-04-10 17:38:54  \n",
      "996  2023-02-19 15:05:57  \n",
      "997  2023-07-14 23:15:18  \n",
      "998  2023-03-03 15:37:35  \n",
      "999  2023-02-18 17:47:48  \n",
      "\n",
      "[1000 rows x 5 columns]\n"
     ]
    }
   ],
   "source": [
    "print(df)"
   ]
  },
  {
   "cell_type": "markdown",
   "id": "a76d17e6",
   "metadata": {},
   "source": [
    "The overall conversion rate is the percentage of users who have made a purchase out of the total number of unique visitors or users on the website. "
   ]
  },
  {
   "cell_type": "code",
   "execution_count": 217,
   "id": "8cbbd140",
   "metadata": {},
   "outputs": [
    {
     "name": "stdout",
     "output_type": "stream",
     "text": [
      "3210\n",
      "916\n",
      "conversion rate: 28.53582554517134\n"
     ]
    }
   ],
   "source": [
    "total_unique_users = spreadsheet['User_ID'].nunique()\n",
    "print(total_unique_users)\n",
    "\n",
    "total_unique_purchasers = df['User_ID'].nunique()\n",
    "print(total_unique_purchasers)\n",
    "\n",
    "conversion_rate = (total_unique_purchasers / total_unique_users) * 100\n",
    "print(\"conversion rate:\",conversion_rate)\n"
   ]
  },
  {
   "cell_type": "code",
   "execution_count": 218,
   "id": "29729d9e",
   "metadata": {},
   "outputs": [
    {
     "name": "stdout",
     "output_type": "stream",
     "text": [
      "['Product_19' 'Product_9' 'Product_8' 'Product_15' 'Product_7'\n",
      " 'Product_16' 'Product_18' 'Product_12' 'Product_11' 'Product_17'\n",
      " 'Product_13' 'Product_14' 'Product_1' 'Product_2' 'Product_6'\n",
      " 'Product_20' 'Product_5' 'Product_10' 'Product_3' 'Product_4']\n"
     ]
    }
   ],
   "source": [
    "unique_categories = df['Product_ID'].unique()\n",
    "print(unique_categories)"
   ]
  },
  {
   "cell_type": "code",
   "execution_count": 219,
   "id": "f7a4404e",
   "metadata": {},
   "outputs": [
    {
     "data": {
      "image/png": "[encoded data removed]",
      "text/plain": [
       "<Figure size 1000x600 with 1 Axes>"
      ]
     },
     "metadata": {},
     "output_type": "display_data"
    }
   ],
   "source": [
    "product_counts = df['Product_ID'].value_counts()\n",
    "\n",
    "plt.figure(figsize=(10, 6))\n",
    "product_counts.plot(kind='bar')\n",
    "plt.xlabel('Product Categories')\n",
    "plt.ylabel('Number of Purchases')\n",
    "plt.title('Number of Purchases for Each Product Category')\n",
    "plt.xticks(rotation=45, ha='right')\n",
    "plt.show()"
   ]
  },
  {
   "cell_type": "markdown",
   "id": "5724a437",
   "metadata": {},
   "source": [
    "The product categories are visualized in descending order of their demand based on the number of purchases."
   ]
  },
  {
   "cell_type": "code",
   "execution_count": 220,
   "id": "a98971b8",
   "metadata": {},
   "outputs": [
    {
     "name": "stdout",
     "output_type": "stream",
     "text": [
      "      User_ID    Page_Viewed  Time_Spent_Seconds  click_event   Purchase_ID   \n",
      "0   User_3250      Cart Page                 111         True  Purchase_925  \\\n",
      "1   User_3250      Cart Page                 278         True  Purchase_925   \n",
      "2   User_3250       Homepage                 244         True  Purchase_925   \n",
      "3   User_3250      Cart Page                 225         True  Purchase_925   \n",
      "4   User_3250  Checkout Page                 322         True  Purchase_925   \n",
      "5   User_4030       Homepage                 574         True  Purchase_687   \n",
      "6   User_3019   Product Page                 290         True   Purchase_58   \n",
      "7   User_2761   Product Page                  85         True  Purchase_549   \n",
      "8   User_2761  Category Page                 168         True  Purchase_549   \n",
      "9   User_2761       Homepage                 432         True  Purchase_549   \n",
      "10  User_3093  Checkout Page                 528         True  Purchase_323   \n",
      "11  User_3093  Category Page                 518         True  Purchase_323   \n",
      "12  User_2887      Cart Page                 250         True  Purchase_404   \n",
      "13   User_230      Cart Page                 369         True  Purchase_941   \n",
      "14   User_230       Homepage                 198         True  Purchase_941   \n",
      "15   User_230       Homepage                 272         True  Purchase_941   \n",
      "16   User_230   Product Page                 396         True  Purchase_941   \n",
      "17   User_506  Category Page                  93         True  Purchase_471   \n",
      "18   User_506      Cart Page                 543         True  Purchase_471   \n",
      "19   User_506      Cart Page                 303         True  Purchase_471   \n",
      "\n",
      "    Product_ID  Transaction_Amount        Purchase_Time  \n",
      "0   Product_17          184.834187  2023-06-06 05:12:03  \n",
      "1   Product_17          184.834187  2023-06-06 05:12:03  \n",
      "2   Product_17          184.834187  2023-06-06 05:12:03  \n",
      "3   Product_17          184.834187  2023-06-06 05:12:03  \n",
      "4   Product_17          184.834187  2023-06-06 05:12:03  \n",
      "5    Product_9           38.324270  2023-06-18 16:06:09  \n",
      "6   Product_18          133.450687  2023-02-09 14:18:01  \n",
      "7    Product_3          190.944937  2023-06-28 06:27:44  \n",
      "8    Product_3          190.944937  2023-06-28 06:27:44  \n",
      "9    Product_3          190.944937  2023-06-28 06:27:44  \n",
      "10  Product_17           12.473157  2023-01-16 08:49:11  \n",
      "11  Product_17           12.473157  2023-01-16 08:49:11  \n",
      "12  Product_19           90.649945  2023-07-03 23:27:20  \n",
      "13  Product_12           14.228883  2023-03-05 14:43:51  \n",
      "14  Product_12           14.228883  2023-03-05 14:43:51  \n",
      "15  Product_12           14.228883  2023-03-05 14:43:51  \n",
      "16  Product_12           14.228883  2023-03-05 14:43:51  \n",
      "17  Product_17          190.599227  2023-04-02 01:18:32  \n",
      "18  Product_17          190.599227  2023-04-02 01:18:32  \n",
      "19  Product_17          190.599227  2023-04-02 01:18:32  \n"
     ]
    }
   ],
   "source": [
    "merged_df = pd.merge(spreadsheet, df, on='User_ID', how='inner')\n",
    "\n",
    "print(merged_df.head(20))"
   ]
  },
  {
   "cell_type": "markdown",
   "id": "a4b98b11",
   "metadata": {},
   "source": [
    "The merged datasets shows the relationship between user interactions amd purchase made by them."
   ]
  },
  {
   "cell_type": "markdown",
   "id": "197dc06a",
   "metadata": {},
   "source": [
    "Likelihood of a purchase can be measured by total purchases divided by total user interactions which is 1000/5000 = 1/5."
   ]
  },
  {
   "cell_type": "markdown",
   "id": "b18ca0a3",
   "metadata": {},
   "source": [
    "COHORT ANALYSIS:"
   ]
  },
  {
   "cell_type": "code",
   "execution_count": 221,
   "id": "ca680128",
   "metadata": {},
   "outputs": [
    {
     "name": "stdout",
     "output_type": "stream",
     "text": [
      "      Purchase_ID    User_ID  Product_ID  Transaction_Amount   \n",
      "0    Purchase_948  User_3840  Product_19           62.843031  \\\n",
      "1    Purchase_905  User_1846   Product_9           21.780079   \n",
      "2    Purchase_704  User_1700   Product_8          138.264455   \n",
      "3    Purchase_766  User_4117  Product_15           74.991367   \n",
      "4     Purchase_36  User_3053   Product_7          162.569998   \n",
      "..            ...        ...         ...                 ...   \n",
      "995  Purchase_489  User_2879  Product_14           47.047885   \n",
      "996  Purchase_741   User_588   Product_1           85.587089   \n",
      "997  Purchase_587  User_3821  Product_16          162.919467   \n",
      "998  Purchase_222  User_1804  Product_10           44.435545   \n",
      "999  Purchase_609  User_3364  Product_14          147.367700   \n",
      "\n",
      "           Purchase_Time Purchase_date  \n",
      "0    2023-04-02 16:35:46    2023-04-02  \n",
      "1    2023-04-14 16:38:27    2023-04-14  \n",
      "2    2023-01-21 11:21:31    2023-01-21  \n",
      "3    2023-01-29 04:44:04    2023-01-29  \n",
      "4    2023-05-24 03:30:23    2023-05-24  \n",
      "..                   ...           ...  \n",
      "995  2023-04-10 17:38:54    2023-04-10  \n",
      "996  2023-02-19 15:05:57    2023-02-19  \n",
      "997  2023-07-14 23:15:18    2023-07-14  \n",
      "998  2023-03-03 15:37:35    2023-03-03  \n",
      "999  2023-02-18 17:47:48    2023-02-18  \n",
      "\n",
      "[1000 rows x 6 columns]\n"
     ]
    }
   ],
   "source": [
    "split_parts = df['Purchase_Time'].str.split(' ')\n",
    "df['Purchase_date'] = pd.to_datetime(split_parts.str[0])\n",
    "print(df)"
   ]
  },
  {
   "cell_type": "markdown",
   "id": "1ad77677",
   "metadata": {},
   "source": [
    "Since we didn't have the data for user sign-up date, I took the purchase date to create cohorts."
   ]
  },
  {
   "cell_type": "code",
   "execution_count": 222,
   "id": "111a591b",
   "metadata": {},
   "outputs": [
    {
     "name": "stdout",
     "output_type": "stream",
     "text": [
      "Cohort: 2023-1\n",
      "       User_ID Purchase_date\n",
      "2    User_1700    2023-01-21\n",
      "3    User_4117    2023-01-29\n",
      "5    User_3759    2023-01-29\n",
      "12   User_1698    2023-01-30\n",
      "16   User_1935    2023-01-19\n",
      "..         ...           ...\n",
      "960  User_4347    2023-01-21\n",
      "966  User_4326    2023-01-29\n",
      "982   User_520    2023-01-17\n",
      "987  User_1880    2023-01-20\n",
      "992  User_2952    2023-01-17\n",
      "\n",
      "[157 rows x 2 columns]\n",
      "\n",
      "\n",
      "Cohort: 2023-2\n",
      "       User_ID Purchase_date\n",
      "14   User_2129    2023-02-22\n",
      "20   User_2109    2023-02-15\n",
      "28   User_4313    2023-02-24\n",
      "42   User_3019    2023-02-09\n",
      "45   User_1865    2023-02-19\n",
      "..         ...           ...\n",
      "941  User_4553    2023-02-23\n",
      "944  User_4940    2023-02-02\n",
      "975   User_416    2023-02-25\n",
      "996   User_588    2023-02-19\n",
      "999  User_3364    2023-02-18\n",
      "\n",
      "[129 rows x 2 columns]\n",
      "\n",
      "\n",
      "Cohort: 2023-3\n",
      "       User_ID Purchase_date\n",
      "7    User_3228    2023-03-22\n",
      "9     User_940    2023-03-06\n",
      "13   User_3271    2023-03-18\n",
      "21    User_818    2023-03-29\n",
      "23   User_4172    2023-03-25\n",
      "..         ...           ...\n",
      "931   User_514    2023-03-31\n",
      "945  User_1908    2023-03-22\n",
      "952  User_3973    2023-03-20\n",
      "959  User_1813    2023-03-24\n",
      "998  User_1804    2023-03-03\n",
      "\n",
      "[155 rows x 2 columns]\n",
      "\n",
      "\n",
      "Cohort: 2023-4\n",
      "       User_ID Purchase_date\n",
      "0    User_3840    2023-04-02\n",
      "1    User_1846    2023-04-14\n",
      "11   User_2178    2023-04-19\n",
      "26   User_3431    2023-04-06\n",
      "29   User_4018    2023-04-08\n",
      "..         ...           ...\n",
      "976   User_506    2023-04-02\n",
      "980  User_2956    2023-04-15\n",
      "983  User_3905    2023-04-03\n",
      "986  User_4188    2023-04-16\n",
      "995  User_2879    2023-04-10\n",
      "\n",
      "[146 rows x 2 columns]\n",
      "\n",
      "\n",
      "Cohort: 2023-5\n",
      "       User_ID Purchase_date\n",
      "4    User_3053    2023-05-24\n",
      "35   User_2431    2023-05-26\n",
      "44   User_2252    2023-05-22\n",
      "47   User_1676    2023-05-02\n",
      "61   User_3639    2023-05-18\n",
      "..         ...           ...\n",
      "972  User_2099    2023-05-31\n",
      "973  User_4182    2023-05-01\n",
      "985  User_2804    2023-05-05\n",
      "988  User_2595    2023-05-04\n",
      "991  User_3009    2023-05-31\n",
      "\n",
      "[139 rows x 2 columns]\n",
      "\n",
      "\n",
      "Cohort: 2023-6\n",
      "       User_ID Purchase_date\n",
      "8     User_691    2023-06-19\n",
      "15   User_1425    2023-06-05\n",
      "27    User_508    2023-06-21\n",
      "39   User_1515    2023-06-06\n",
      "54   User_3374    2023-06-10\n",
      "..         ...           ...\n",
      "956  User_4989    2023-06-24\n",
      "961  User_3325    2023-06-08\n",
      "977  User_4030    2023-06-18\n",
      "978  User_1214    2023-06-29\n",
      "979  User_2475    2023-06-08\n",
      "\n",
      "[139 rows x 2 columns]\n",
      "\n",
      "\n",
      "Cohort: 2023-7\n",
      "       User_ID Purchase_date\n",
      "6    User_4573    2023-07-24\n",
      "10   User_1057    2023-07-16\n",
      "22   User_3412    2023-07-20\n",
      "33   User_1920    2023-07-18\n",
      "38   User_3857    2023-07-19\n",
      "..         ...           ...\n",
      "989  User_4627    2023-07-16\n",
      "990  User_1913    2023-07-14\n",
      "993  User_3968    2023-07-04\n",
      "994  User_4771    2023-07-03\n",
      "997  User_3821    2023-07-14\n",
      "\n",
      "[135 rows x 2 columns]\n",
      "\n",
      "\n"
     ]
    }
   ],
   "source": [
    "\n",
    "# Extract month and year from the 'sign_up_date' column\n",
    "df['purchase_month'] = df['Purchase_date'].dt.month\n",
    "df['purchase_year'] = df['Purchase_date'].dt.year\n",
    "\n",
    "# Combine month and year to form a cohort label\n",
    "df['cohort_label'] = df['purchase_year'].astype(str) + '-' + df['purchase_month'].astype(str)\n",
    "\n",
    "# Group users based on cohort label to create cohorts\n",
    "cohorts = df.groupby('cohort_label')\n",
    "\n",
    "# Print the cohorts or perform further analysis on each cohort\n",
    "for cohort_label, cohort_users in cohorts:\n",
    "    print(f\"Cohort: {cohort_label}\")\n",
    "    print(cohort_users[['User_ID', 'Purchase_date']])\n",
    "    print('\\n')"
   ]
  },
  {
   "cell_type": "code",
   "execution_count": 223,
   "id": "b98c26f8",
   "metadata": {},
   "outputs": [
    {
     "name": "stdout",
     "output_type": "stream",
     "text": [
      "  cohort_label                       retention_rate\n",
      "0       2023-1  [0.0, 0.0, 0.0, 0.0, 0.0, 0.0, 0.0]\n",
      "1       2023-2  [0.0, 0.0, 0.0, 0.0, 0.0, 0.0, 0.0]\n",
      "2       2023-3  [0.0, 0.0, 0.0, 0.0, 0.0, 0.0, 0.0]\n",
      "3       2023-4  [0.0, 0.0, 0.0, 0.0, 0.0, 0.0, 0.0]\n",
      "4       2023-5  [0.0, 0.0, 0.0, 0.0, 0.0, 0.0, 0.0]\n",
      "5       2023-6  [0.0, 0.0, 0.0, 0.0, 0.0, 0.0, 0.0]\n",
      "6       2023-7  [0.0, 0.0, 0.0, 0.0, 0.0, 0.0, 0.0]\n"
     ]
    }
   ],
   "source": [
    "cohort_sizes = df.groupby('cohort_label')['User_ID'].nunique()\n",
    "retention_rates = []\n",
    "\n",
    "for cohort_label, cohort_users in df.groupby('cohort_label'):\n",
    "    cohort_users_set = set(cohort_users['User_ID'])\n",
    "    retention = []\n",
    "    \n",
    "    for month in range(1, df['Purchase_date'].dt.to_period('M').nunique() + 1):\n",
    "        cohort_month_users = df[(df['cohort_label'] == cohort_label) & (df['Purchase_date'].dt.to_period('M').rank() <= month)]\n",
    "        retention_rate = cohort_month_users['User_ID'].nunique() / cohort_sizes[cohort_label]\n",
    "        retention.append(retention_rate)\n",
    "    \n",
    "    retention_rates.append({'cohort_label': cohort_label, 'retention_rate': retention})\n",
    "\n",
    "\n",
    "retention_df = pd.DataFrame(retention_rates)\n",
    "\n",
    "\n",
    "print(retention_df)"
   ]
  },
  {
   "cell_type": "markdown",
   "id": "297be373",
   "metadata": {},
   "source": [
    "This is retention analysis which is supposed to tell that how many users came back to make a purchase after their initial purchase. As you can see it is Zero for all cohorts in this case.\n",
    "\n",
    "LIFETIME VALUE:"
   ]
  },
  {
   "cell_type": "code",
   "execution_count": 224,
   "id": "80340f86",
   "metadata": {},
   "outputs": [
    {
     "name": "stdout",
     "output_type": "stream",
     "text": [
      "purchase_month\n",
      "1    2764.946926\n",
      "2    2427.737497\n",
      "3    2735.931052\n",
      "4    2703.092767\n",
      "5    2629.756324\n",
      "6    2559.441358\n",
      "7    2523.091318\n",
      "Name: Transaction_Amount, dtype: float64\n"
     ]
    }
   ],
   "source": [
    "# Calculate amount generated by each cohort\n",
    "cohort_revenue = df.groupby('purchase_month')['Transaction_Amount'].sum()\n",
    "\n",
    "# Calculate the average lifetime of customers in each cohort (time between purchase and last interaction)\n",
    "cohort_lifetime = (df.groupby('User_ID')['purchase_month'].max() - df.groupby('User_ID')['purchase_month'].min()).mean()\n",
    "\n",
    "# Calculate the lifetime value of customers in each cohort\n",
    "cohort_ltv = cohort_revenue * cohort_lifetime\n",
    "\n",
    "# Print the lifetime value of customers for each cohort\n",
    "print(cohort_ltv)"
   ]
  },
  {
   "cell_type": "markdown",
   "id": "1baa3884",
   "metadata": {},
   "source": [
    "WEBSITE PERFORMANCE OPTIMIZATION:"
   ]
  },
  {
   "cell_type": "code",
   "execution_count": 225,
   "id": "cbf3e522",
   "metadata": {},
   "outputs": [],
   "source": [
    "wdf = pd.read_csv('/Users/bhumikajain/Downloads/website_performance.csv')"
   ]
  },
  {
   "cell_type": "code",
   "execution_count": 226,
   "id": "8f59d8b4",
   "metadata": {},
   "outputs": [
    {
     "name": "stdout",
     "output_type": "stream",
     "text": [
      "         Month  Page_Load_Time  Bounce_Rate  Conversion_Rate\n",
      "0   2023-01-01        5.106652     0.514345         0.047375\n",
      "1   2023-02-01        7.828199     0.317157         0.062764\n",
      "2   2023-03-01        3.239983     0.480903         0.050514\n",
      "3   2023-04-01        5.954509     0.473572         0.057151\n",
      "4   2023-05-01        9.872398     0.542407         0.089525\n",
      "5   2023-06-01        7.333456     0.440715         0.048687\n",
      "6   2023-07-01        3.372264     0.390081         0.048440\n",
      "7   2023-08-01        7.115272     0.489165         0.038263\n",
      "8   2023-09-01        8.384957     0.301692         0.063365\n",
      "9   2023-10-01        2.468395     0.566843         0.065971\n",
      "10  2023-11-01        4.429745     0.526560         0.065786\n",
      "11  2023-12-01        5.289363     0.388364         0.082828\n"
     ]
    }
   ],
   "source": [
    "print(wdf)"
   ]
  },
  {
   "cell_type": "markdown",
   "id": "9721a737",
   "metadata": {},
   "source": [
    "Strategies to reduce bounce rate:\n",
    "\n",
    "1. Reduce Page Load Time \n",
    "2. Exit Pop-ups: Use exit-intent pop-ups to display relevant offers or messages to users who are about to leave the website.\n",
    "3. Providing quality content and appropriate product recommendations on the Home Page.\n",
    "4. Creating a visually appealing website design.\n",
    "5. Including links to other pages and relevant offers on the main page.\n",
    "6. Trying and testing different layouts for lower Bounce rate.\n",
    "\n",
    "To improve the conversion rate:\n",
    "\n",
    "1. Make the form filling/cart to checkout process as easy as possible.\n",
    "2. Use persuasive language and Call to Action(CTAs) that stand out.\n",
    "3. Display customer reviews and ensure privacy in order to build trust.\n",
    "4. Use limited-time offers or stock availability to create a sense of urgency and prompt users to take immediate action.\n",
    "5. Offer Multiple Payment Options.\n",
    "6. Provide discounts, free trials, or other incentives to encourage users to convert."
   ]
  },
  {
   "cell_type": "code",
   "execution_count": 227,
   "id": "4c8fca54",
   "metadata": {},
   "outputs": [],
   "source": [
    "import plotly.express as px"
   ]
  },
  {
   "cell_type": "code",
   "execution_count": 228,
   "id": "40c544a3",
   "metadata": {},
   "outputs": [
    {
     "data": {
      "application/vnd.plotly.v1+json": {
       "config": {
        "plotlyServerURL": "https://plot.ly"
       },
       "data": [
        {
         "hovertemplate": "Month=%{x}<br>Page_Load_Time=%{y}<extra></extra>",
         "legendgroup": "",
         "line": {
          "color": "#636efa",
          "dash": "solid"
         },
         "marker": {
          "symbol": "circle"
         },
         "mode": "lines",
         "name": "",
         "orientation": "v",
         "showlegend": false,
         "type": "scatter",
         "x": [
          "2023-01-01",
          "2023-02-01",
          "2023-03-01",
          "2023-04-01",
          "2023-05-01",
          "2023-06-01",
          "2023-07-01",
          "2023-08-01",
          "2023-09-01",
          "2023-10-01",
          "2023-11-01",
          "2023-12-01"
         ],
         "xaxis": "x",
         "y": [
          5.106652270444677,
          7.828198903238928,
          3.239982512886371,
          5.954508577592699,
          9.872397510451894,
          7.333456117553037,
          3.372264316926901,
          7.115272414481059,
          8.384956861339896,
          2.468395473568221,
          4.429744885014772,
          5.289362743311719
         ],
         "yaxis": "y"
        }
       ],
       "layout": {
        "legend": {
         "tracegroupgap": 0
        },
        "template": {
         "data": {
          "bar": [
           {
            "error_x": {
             "color": "#2a3f5f"
            },
            "error_y": {
             "color": "#2a3f5f"
            },
            "marker": {
             "line": {
              "color": "#E5ECF6",
              "width": 0.5
             },
             "pattern": {
              "fillmode": "overlay",
              "size": 10,
              "solidity": 0.2
             }
            },
            "type": "bar"
           }
          ],
          "barpolar": [
           {
            "marker": {
             "line": {
              "color": "#E5ECF6",
              "width": 0.5
             },
             "pattern": {
              "fillmode": "overlay",
              "size": 10,
              "solidity": 0.2
             }
            },
            "type": "barpolar"
           }
          ],
          "carpet": [
           {
            "aaxis": {
             "endlinecolor": "#2a3f5f",
             "gridcolor": "white",
             "linecolor": "white",
             "minorgridcolor": "white",
             "startlinecolor": "#2a3f5f"
            },
            "baxis": {
             "endlinecolor": "#2a3f5f",
             "gridcolor": "white",
             "linecolor": "white",
             "minorgridcolor": "white",
             "startlinecolor": "#2a3f5f"
            },
            "type": "carpet"
           }
          ],
          "choropleth": [
           {
            "colorbar": {
             "outlinewidth": 0,
             "ticks": ""
            },
            "type": "choropleth"
           }
          ],
          "contour": [
           {
            "colorbar": {
             "outlinewidth": 0,
             "ticks": ""
            },
            "colorscale": [
             [
              0,
              "#0d0887"
             ],
             [
              0.1111111111111111,
              "#46039f"
             ],
             [
              0.2222222222222222,
              "#7201a8"
             ],
             [
              0.3333333333333333,
              "#9c179e"
             ],
             [
              0.4444444444444444,
              "#bd3786"
             ],
             [
              0.5555555555555556,
              "#d8576b"
             ],
             [
              0.6666666666666666,
              "#ed7953"
             ],
             [
              0.7777777777777778,
              "#fb9f3a"
             ],
             [
              0.8888888888888888,
              "#fdca26"
             ],
             [
              1,
              "#f0f921"
             ]
            ],
            "type": "contour"
           }
          ],
          "contourcarpet": [
           {
            "colorbar": {
             "outlinewidth": 0,
             "ticks": ""
            },
            "type": "contourcarpet"
           }
          ],
          "heatmap": [
           {
            "colorbar": {
             "outlinewidth": 0,
             "ticks": ""
            },
            "colorscale": [
             [
              0,
              "#0d0887"
             ],
             [
              0.1111111111111111,
              "#46039f"
             ],
             [
              0.2222222222222222,
              "#7201a8"
             ],
             [
              0.3333333333333333,
              "#9c179e"
             ],
             [
              0.4444444444444444,
              "#bd3786"
             ],
             [
              0.5555555555555556,
              "#d8576b"
             ],
             [
              0.6666666666666666,
              "#ed7953"
             ],
             [
              0.7777777777777778,
              "#fb9f3a"
             ],
             [
              0.8888888888888888,
              "#fdca26"
             ],
             [
              1,
              "#f0f921"
             ]
            ],
            "type": "heatmap"
           }
          ],
          "heatmapgl": [
           {
            "colorbar": {
             "outlinewidth": 0,
             "ticks": ""
            },
            "colorscale": [
             [
              0,
              "#0d0887"
             ],
             [
              0.1111111111111111,
              "#46039f"
             ],
             [
              0.2222222222222222,
              "#7201a8"
             ],
             [
              0.3333333333333333,
              "#9c179e"
             ],
             [
              0.4444444444444444,
              "#bd3786"
             ],
             [
              0.5555555555555556,
              "#d8576b"
             ],
             [
              0.6666666666666666,
              "#ed7953"
             ],
             [
              0.7777777777777778,
              "#fb9f3a"
             ],
             [
              0.8888888888888888,
              "#fdca26"
             ],
             [
              1,
              "#f0f921"
             ]
            ],
            "type": "heatmapgl"
           }
          ],
          "histogram": [
           {
            "marker": {
             "pattern": {
              "fillmode": "overlay",
              "size": 10,
              "solidity": 0.2
             }
            },
            "type": "histogram"
           }
          ],
          "histogram2d": [
           {
            "colorbar": {
             "outlinewidth": 0,
             "ticks": ""
            },
            "colorscale": [
             [
              0,
              "#0d0887"
             ],
             [
              0.1111111111111111,
              "#46039f"
             ],
             [
              0.2222222222222222,
              "#7201a8"
             ],
             [
              0.3333333333333333,
              "#9c179e"
             ],
             [
              0.4444444444444444,
              "#bd3786"
             ],
             [
              0.5555555555555556,
              "#d8576b"
             ],
             [
              0.6666666666666666,
              "#ed7953"
             ],
             [
              0.7777777777777778,
              "#fb9f3a"
             ],
             [
              0.8888888888888888,
              "#fdca26"
             ],
             [
              1,
              "#f0f921"
             ]
            ],
            "type": "histogram2d"
           }
          ],
          "histogram2dcontour": [
           {
            "colorbar": {
             "outlinewidth": 0,
             "ticks": ""
            },
            "colorscale": [
             [
              0,
              "#0d0887"
             ],
             [
              0.1111111111111111,
              "#46039f"
             ],
             [
              0.2222222222222222,
              "#7201a8"
             ],
             [
              0.3333333333333333,
              "#9c179e"
             ],
             [
              0.4444444444444444,
              "#bd3786"
             ],
             [
              0.5555555555555556,
              "#d8576b"
             ],
             [
              0.6666666666666666,
              "#ed7953"
             ],
             [
              0.7777777777777778,
              "#fb9f3a"
             ],
             [
              0.8888888888888888,
              "#fdca26"
             ],
             [
              1,
              "#f0f921"
             ]
            ],
            "type": "histogram2dcontour"
           }
          ],
          "mesh3d": [
           {
            "colorbar": {
             "outlinewidth": 0,
             "ticks": ""
            },
            "type": "mesh3d"
           }
          ],
          "parcoords": [
           {
            "line": {
             "colorbar": {
              "outlinewidth": 0,
              "ticks": ""
             }
            },
            "type": "parcoords"
           }
          ],
          "pie": [
           {
            "automargin": true,
            "type": "pie"
           }
          ],
          "scatter": [
           {
            "fillpattern": {
             "fillmode": "overlay",
             "size": 10,
             "solidity": 0.2
            },
            "type": "scatter"
           }
          ],
          "scatter3d": [
           {
            "line": {
             "colorbar": {
              "outlinewidth": 0,
              "ticks": ""
             }
            },
            "marker": {
             "colorbar": {
              "outlinewidth": 0,
              "ticks": ""
             }
            },
            "type": "scatter3d"
           }
          ],
          "scattercarpet": [
           {
            "marker": {
             "colorbar": {
              "outlinewidth": 0,
              "ticks": ""
             }
            },
            "type": "scattercarpet"
           }
          ],
          "scattergeo": [
           {
            "marker": {
             "colorbar": {
              "outlinewidth": 0,
              "ticks": ""
             }
            },
            "type": "scattergeo"
           }
          ],
          "scattergl": [
           {
            "marker": {
             "colorbar": {
              "outlinewidth": 0,
              "ticks": ""
             }
            },
            "type": "scattergl"
           }
          ],
          "scattermapbox": [
           {
            "marker": {
             "colorbar": {
              "outlinewidth": 0,
              "ticks": ""
             }
            },
            "type": "scattermapbox"
           }
          ],
          "scatterpolar": [
           {
            "marker": {
             "colorbar": {
              "outlinewidth": 0,
              "ticks": ""
             }
            },
            "type": "scatterpolar"
           }
          ],
          "scatterpolargl": [
           {
            "marker": {
             "colorbar": {
              "outlinewidth": 0,
              "ticks": ""
             }
            },
            "type": "scatterpolargl"
           }
          ],
          "scatterternary": [
           {
            "marker": {
             "colorbar": {
              "outlinewidth": 0,
              "ticks": ""
             }
            },
            "type": "scatterternary"
           }
          ],
          "surface": [
           {
            "colorbar": {
             "outlinewidth": 0,
             "ticks": ""
            },
            "colorscale": [
             [
              0,
              "#0d0887"
             ],
             [
              0.1111111111111111,
              "#46039f"
             ],
             [
              0.2222222222222222,
              "#7201a8"
             ],
             [
              0.3333333333333333,
              "#9c179e"
             ],
             [
              0.4444444444444444,
              "#bd3786"
             ],
             [
              0.5555555555555556,
              "#d8576b"
             ],
             [
              0.6666666666666666,
              "#ed7953"
             ],
             [
              0.7777777777777778,
              "#fb9f3a"
             ],
             [
              0.8888888888888888,
              "#fdca26"
             ],
             [
              1,
              "#f0f921"
             ]
            ],
            "type": "surface"
           }
          ],
          "table": [
           {
            "cells": {
             "fill": {
              "color": "#EBF0F8"
             },
             "line": {
              "color": "white"
             }
            },
            "header": {
             "fill": {
              "color": "#C8D4E3"
             },
             "line": {
              "color": "white"
             }
            },
            "type": "table"
           }
          ]
         },
         "layout": {
          "annotationdefaults": {
           "arrowcolor": "#2a3f5f",
           "arrowhead": 0,
           "arrowwidth": 1
          },
          "autotypenumbers": "strict",
          "coloraxis": {
           "colorbar": {
            "outlinewidth": 0,
            "ticks": ""
           }
          },
          "colorscale": {
           "diverging": [
            [
             0,
             "#8e0152"
            ],
            [
             0.1,
             "#c51b7d"
            ],
            [
             0.2,
             "#de77ae"
            ],
            [
             0.3,
             "#f1b6da"
            ],
            [
             0.4,
             "#fde0ef"
            ],
            [
             0.5,
             "#f7f7f7"
            ],
            [
             0.6,
             "#e6f5d0"
            ],
            [
             0.7,
             "#b8e186"
            ],
            [
             0.8,
             "#7fbc41"
            ],
            [
             0.9,
             "#4d9221"
            ],
            [
             1,
             "#276419"
            ]
           ],
           "sequential": [
            [
             0,
             "#0d0887"
            ],
            [
             0.1111111111111111,
             "#46039f"
            ],
            [
             0.2222222222222222,
             "#7201a8"
            ],
            [
             0.3333333333333333,
             "#9c179e"
            ],
            [
             0.4444444444444444,
             "#bd3786"
            ],
            [
             0.5555555555555556,
             "#d8576b"
            ],
            [
             0.6666666666666666,
             "#ed7953"
            ],
            [
             0.7777777777777778,
             "#fb9f3a"
            ],
            [
             0.8888888888888888,
             "#fdca26"
            ],
            [
             1,
             "#f0f921"
            ]
           ],
           "sequentialminus": [
            [
             0,
             "#0d0887"
            ],
            [
             0.1111111111111111,
             "#46039f"
            ],
            [
             0.2222222222222222,
             "#7201a8"
            ],
            [
             0.3333333333333333,
             "#9c179e"
            ],
            [
             0.4444444444444444,
             "#bd3786"
            ],
            [
             0.5555555555555556,
             "#d8576b"
            ],
            [
             0.6666666666666666,
             "#ed7953"
            ],
            [
             0.7777777777777778,
             "#fb9f3a"
            ],
            [
             0.8888888888888888,
             "#fdca26"
            ],
            [
             1,
             "#f0f921"
            ]
           ]
          },
          "colorway": [
           "#636efa",
           "#EF553B",
           "#00cc96",
           "#ab63fa",
           "#FFA15A",
           "#19d3f3",
           "#FF6692",
           "#B6E880",
           "#FF97FF",
           "#FECB52"
          ],
          "font": {
           "color": "#2a3f5f"
          },
          "geo": {
           "bgcolor": "white",
           "lakecolor": "white",
           "landcolor": "#E5ECF6",
           "showlakes": true,
           "showland": true,
           "subunitcolor": "white"
          },
          "hoverlabel": {
           "align": "left"
          },
          "hovermode": "closest",
          "mapbox": {
           "style": "light"
          },
          "paper_bgcolor": "white",
          "plot_bgcolor": "#E5ECF6",
          "polar": {
           "angularaxis": {
            "gridcolor": "white",
            "linecolor": "white",
            "ticks": ""
           },
           "bgcolor": "#E5ECF6",
           "radialaxis": {
            "gridcolor": "white",
            "linecolor": "white",
            "ticks": ""
           }
          },
          "scene": {
           "xaxis": {
            "backgroundcolor": "#E5ECF6",
            "gridcolor": "white",
            "gridwidth": 2,
            "linecolor": "white",
            "showbackground": true,
            "ticks": "",
            "zerolinecolor": "white"
           },
           "yaxis": {
            "backgroundcolor": "#E5ECF6",
            "gridcolor": "white",
            "gridwidth": 2,
            "linecolor": "white",
            "showbackground": true,
            "ticks": "",
            "zerolinecolor": "white"
           },
           "zaxis": {
            "backgroundcolor": "#E5ECF6",
            "gridcolor": "white",
            "gridwidth": 2,
            "linecolor": "white",
            "showbackground": true,
            "ticks": "",
            "zerolinecolor": "white"
           }
          },
          "shapedefaults": {
           "line": {
            "color": "#2a3f5f"
           }
          },
          "ternary": {
           "aaxis": {
            "gridcolor": "white",
            "linecolor": "white",
            "ticks": ""
           },
           "baxis": {
            "gridcolor": "white",
            "linecolor": "white",
            "ticks": ""
           },
           "bgcolor": "#E5ECF6",
           "caxis": {
            "gridcolor": "white",
            "linecolor": "white",
            "ticks": ""
           }
          },
          "title": {
           "x": 0.05
          },
          "xaxis": {
           "automargin": true,
           "gridcolor": "white",
           "linecolor": "white",
           "ticks": "",
           "title": {
            "standoff": 15
           },
           "zerolinecolor": "white",
           "zerolinewidth": 2
          },
          "yaxis": {
           "automargin": true,
           "gridcolor": "white",
           "linecolor": "white",
           "ticks": "",
           "title": {
            "standoff": 15
           },
           "zerolinecolor": "white",
           "zerolinewidth": 2
          }
         }
        },
        "title": {
         "text": "Page Load Time Trend Over Time"
        },
        "xaxis": {
         "anchor": "y",
         "domain": [
          0,
          1
         ],
         "title": {
          "text": "Month"
         }
        },
        "yaxis": {
         "anchor": "x",
         "domain": [
          0,
          1
         ],
         "title": {
          "text": "Page Load Time (seconds)"
         }
        }
       }
      },
      "text/html": [
       "<div>                            <div id=\"dee1e3db-7b01-44c7-aec0-d1f3e20234e4\" class=\"plotly-graph-div\" style=\"height:525px; width:100%;\"></div>            <script type=\"text/javascript\">                require([\"plotly\"], function(Plotly) {                    window.PLOTLYENV=window.PLOTLYENV || {};                                    if (document.getElementById(\"dee1e3db-7b01-44c7-aec0-d1f3e20234e4\")) {                    Plotly.newPlot(                        \"dee1e3db-7b01-44c7-aec0-d1f3e20234e4\",                        [{\"hovertemplate\":\"Month=%{x}\\u003cbr\\u003ePage_Load_Time=%{y}\\u003cextra\\u003e\\u003c\\u002fextra\\u003e\",\"legendgroup\":\"\",\"line\":{\"color\":\"#636efa\",\"dash\":\"solid\"},\"marker\":{\"symbol\":\"circle\"},\"mode\":\"lines\",\"name\":\"\",\"orientation\":\"v\",\"showlegend\":false,\"x\":[\"2023-01-01\",\"2023-02-01\",\"2023-03-01\",\"2023-04-01\",\"2023-05-01\",\"2023-06-01\",\"2023-07-01\",\"2023-08-01\",\"2023-09-01\",\"2023-10-01\",\"2023-11-01\",\"2023-12-01\"],\"xaxis\":\"x\",\"y\":[5.106652270444677,7.828198903238928,3.239982512886371,5.954508577592699,9.872397510451894,7.333456117553037,3.372264316926901,7.115272414481059,8.384956861339896,2.468395473568221,4.429744885014772,5.289362743311719],\"yaxis\":\"y\",\"type\":\"scatter\"}],                        {\"template\":{\"data\":{\"histogram2dcontour\":[{\"type\":\"histogram2dcontour\",\"colorbar\":{\"outlinewidth\":0,\"ticks\":\"\"},\"colorscale\":[[0.0,\"#0d0887\"],[0.1111111111111111,\"#46039f\"],[0.2222222222222222,\"#7201a8\"],[0.3333333333333333,\"#9c179e\"],[0.4444444444444444,\"#bd3786\"],[0.5555555555555556,\"#d8576b\"],[0.6666666666666666,\"#ed7953\"],[0.7777777777777778,\"#fb9f3a\"],[0.8888888888888888,\"#fdca26\"],[1.0,\"#f0f921\"]]}],\"choropleth\":[{\"type\":\"choropleth\",\"colorbar\":{\"outlinewidth\":0,\"ticks\":\"\"}}],\"histogram2d\":[{\"type\":\"histogram2d\",\"colorbar\":{\"outlinewidth\":0,\"ticks\":\"\"},\"colorscale\":[[0.0,\"#0d0887\"],[0.1111111111111111,\"#46039f\"],[0.2222222222222222,\"#7201a8\"],[0.3333333333333333,\"#9c179e\"],[0.4444444444444444,\"#bd3786\"],[0.5555555555555556,\"#d8576b\"],[0.6666666666666666,\"#ed7953\"],[0.7777777777777778,\"#fb9f3a\"],[0.8888888888888888,\"#fdca26\"],[1.0,\"#f0f921\"]]}],\"heatmap\":[{\"type\":\"heatmap\",\"colorbar\":{\"outlinewidth\":0,\"ticks\":\"\"},\"colorscale\":[[0.0,\"#0d0887\"],[0.1111111111111111,\"#46039f\"],[0.2222222222222222,\"#7201a8\"],[0.3333333333333333,\"#9c179e\"],[0.4444444444444444,\"#bd3786\"],[0.5555555555555556,\"#d8576b\"],[0.6666666666666666,\"#ed7953\"],[0.7777777777777778,\"#fb9f3a\"],[0.8888888888888888,\"#fdca26\"],[1.0,\"#f0f921\"]]}],\"heatmapgl\":[{\"type\":\"heatmapgl\",\"colorbar\":{\"outlinewidth\":0,\"ticks\":\"\"},\"colorscale\":[[0.0,\"#0d0887\"],[0.1111111111111111,\"#46039f\"],[0.2222222222222222,\"#7201a8\"],[0.3333333333333333,\"#9c179e\"],[0.4444444444444444,\"#bd3786\"],[0.5555555555555556,\"#d8576b\"],[0.6666666666666666,\"#ed7953\"],[0.7777777777777778,\"#fb9f3a\"],[0.8888888888888888,\"#fdca26\"],[1.0,\"#f0f921\"]]}],\"contourcarpet\":[{\"type\":\"contourcarpet\",\"colorbar\":{\"outlinewidth\":0,\"ticks\":\"\"}}],\"contour\":[{\"type\":\"contour\",\"colorbar\":{\"outlinewidth\":0,\"ticks\":\"\"},\"colorscale\":[[0.0,\"#0d0887\"],[0.1111111111111111,\"#46039f\"],[0.2222222222222222,\"#7201a8\"],[0.3333333333333333,\"#9c179e\"],[0.4444444444444444,\"#bd3786\"],[0.5555555555555556,\"#d8576b\"],[0.6666666666666666,\"#ed7953\"],[0.7777777777777778,\"#fb9f3a\"],[0.8888888888888888,\"#fdca26\"],[1.0,\"#f0f921\"]]}],\"surface\":[{\"type\":\"surface\",\"colorbar\":{\"outlinewidth\":0,\"ticks\":\"\"},\"colorscale\":[[0.0,\"#0d0887\"],[0.1111111111111111,\"#46039f\"],[0.2222222222222222,\"#7201a8\"],[0.3333333333333333,\"#9c179e\"],[0.4444444444444444,\"#bd3786\"],[0.5555555555555556,\"#d8576b\"],[0.6666666666666666,\"#ed7953\"],[0.7777777777777778,\"#fb9f3a\"],[0.8888888888888888,\"#fdca26\"],[1.0,\"#f0f921\"]]}],\"mesh3d\":[{\"type\":\"mesh3d\",\"colorbar\":{\"outlinewidth\":0,\"ticks\":\"\"}}],\"scatter\":[{\"fillpattern\":{\"fillmode\":\"overlay\",\"size\":10,\"solidity\":0.2},\"type\":\"scatter\"}],\"parcoords\":[{\"type\":\"parcoords\",\"line\":{\"colorbar\":{\"outlinewidth\":0,\"ticks\":\"\"}}}],\"scatterpolargl\":[{\"type\":\"scatterpolargl\",\"marker\":{\"colorbar\":{\"outlinewidth\":0,\"ticks\":\"\"}}}],\"bar\":[{\"error_x\":{\"color\":\"#2a3f5f\"},\"error_y\":{\"color\":\"#2a3f5f\"},\"marker\":{\"line\":{\"color\":\"#E5ECF6\",\"width\":0.5},\"pattern\":{\"fillmode\":\"overlay\",\"size\":10,\"solidity\":0.2}},\"type\":\"bar\"}],\"scattergeo\":[{\"type\":\"scattergeo\",\"marker\":{\"colorbar\":{\"outlinewidth\":0,\"ticks\":\"\"}}}],\"scatterpolar\":[{\"type\":\"scatterpolar\",\"marker\":{\"colorbar\":{\"outlinewidth\":0,\"ticks\":\"\"}}}],\"histogram\":[{\"marker\":{\"pattern\":{\"fillmode\":\"overlay\",\"size\":10,\"solidity\":0.2}},\"type\":\"histogram\"}],\"scattergl\":[{\"type\":\"scattergl\",\"marker\":{\"colorbar\":{\"outlinewidth\":0,\"ticks\":\"\"}}}],\"scatter3d\":[{\"type\":\"scatter3d\",\"line\":{\"colorbar\":{\"outlinewidth\":0,\"ticks\":\"\"}},\"marker\":{\"colorbar\":{\"outlinewidth\":0,\"ticks\":\"\"}}}],\"scattermapbox\":[{\"type\":\"scattermapbox\",\"marker\":{\"colorbar\":{\"outlinewidth\":0,\"ticks\":\"\"}}}],\"scatterternary\":[{\"type\":\"scatterternary\",\"marker\":{\"colorbar\":{\"outlinewidth\":0,\"ticks\":\"\"}}}],\"scattercarpet\":[{\"type\":\"scattercarpet\",\"marker\":{\"colorbar\":{\"outlinewidth\":0,\"ticks\":\"\"}}}],\"carpet\":[{\"aaxis\":{\"endlinecolor\":\"#2a3f5f\",\"gridcolor\":\"white\",\"linecolor\":\"white\",\"minorgridcolor\":\"white\",\"startlinecolor\":\"#2a3f5f\"},\"baxis\":{\"endlinecolor\":\"#2a3f5f\",\"gridcolor\":\"white\",\"linecolor\":\"white\",\"minorgridcolor\":\"white\",\"startlinecolor\":\"#2a3f5f\"},\"type\":\"carpet\"}],\"table\":[{\"cells\":{\"fill\":{\"color\":\"#EBF0F8\"},\"line\":{\"color\":\"white\"}},\"header\":{\"fill\":{\"color\":\"#C8D4E3\"},\"line\":{\"color\":\"white\"}},\"type\":\"table\"}],\"barpolar\":[{\"marker\":{\"line\":{\"color\":\"#E5ECF6\",\"width\":0.5},\"pattern\":{\"fillmode\":\"overlay\",\"size\":10,\"solidity\":0.2}},\"type\":\"barpolar\"}],\"pie\":[{\"automargin\":true,\"type\":\"pie\"}]},\"layout\":{\"autotypenumbers\":\"strict\",\"colorway\":[\"#636efa\",\"#EF553B\",\"#00cc96\",\"#ab63fa\",\"#FFA15A\",\"#19d3f3\",\"#FF6692\",\"#B6E880\",\"#FF97FF\",\"#FECB52\"],\"font\":{\"color\":\"#2a3f5f\"},\"hovermode\":\"closest\",\"hoverlabel\":{\"align\":\"left\"},\"paper_bgcolor\":\"white\",\"plot_bgcolor\":\"#E5ECF6\",\"polar\":{\"bgcolor\":\"#E5ECF6\",\"angularaxis\":{\"gridcolor\":\"white\",\"linecolor\":\"white\",\"ticks\":\"\"},\"radialaxis\":{\"gridcolor\":\"white\",\"linecolor\":\"white\",\"ticks\":\"\"}},\"ternary\":{\"bgcolor\":\"#E5ECF6\",\"aaxis\":{\"gridcolor\":\"white\",\"linecolor\":\"white\",\"ticks\":\"\"},\"baxis\":{\"gridcolor\":\"white\",\"linecolor\":\"white\",\"ticks\":\"\"},\"caxis\":{\"gridcolor\":\"white\",\"linecolor\":\"white\",\"ticks\":\"\"}},\"coloraxis\":{\"colorbar\":{\"outlinewidth\":0,\"ticks\":\"\"}},\"colorscale\":{\"sequential\":[[0.0,\"#0d0887\"],[0.1111111111111111,\"#46039f\"],[0.2222222222222222,\"#7201a8\"],[0.3333333333333333,\"#9c179e\"],[0.4444444444444444,\"#bd3786\"],[0.5555555555555556,\"#d8576b\"],[0.6666666666666666,\"#ed7953\"],[0.7777777777777778,\"#fb9f3a\"],[0.8888888888888888,\"#fdca26\"],[1.0,\"#f0f921\"]],\"sequentialminus\":[[0.0,\"#0d0887\"],[0.1111111111111111,\"#46039f\"],[0.2222222222222222,\"#7201a8\"],[0.3333333333333333,\"#9c179e\"],[0.4444444444444444,\"#bd3786\"],[0.5555555555555556,\"#d8576b\"],[0.6666666666666666,\"#ed7953\"],[0.7777777777777778,\"#fb9f3a\"],[0.8888888888888888,\"#fdca26\"],[1.0,\"#f0f921\"]],\"diverging\":[[0,\"#8e0152\"],[0.1,\"#c51b7d\"],[0.2,\"#de77ae\"],[0.3,\"#f1b6da\"],[0.4,\"#fde0ef\"],[0.5,\"#f7f7f7\"],[0.6,\"#e6f5d0\"],[0.7,\"#b8e186\"],[0.8,\"#7fbc41\"],[0.9,\"#4d9221\"],[1,\"#276419\"]]},\"xaxis\":{\"gridcolor\":\"white\",\"linecolor\":\"white\",\"ticks\":\"\",\"title\":{\"standoff\":15},\"zerolinecolor\":\"white\",\"automargin\":true,\"zerolinewidth\":2},\"yaxis\":{\"gridcolor\":\"white\",\"linecolor\":\"white\",\"ticks\":\"\",\"title\":{\"standoff\":15},\"zerolinecolor\":\"white\",\"automargin\":true,\"zerolinewidth\":2},\"scene\":{\"xaxis\":{\"backgroundcolor\":\"#E5ECF6\",\"gridcolor\":\"white\",\"linecolor\":\"white\",\"showbackground\":true,\"ticks\":\"\",\"zerolinecolor\":\"white\",\"gridwidth\":2},\"yaxis\":{\"backgroundcolor\":\"#E5ECF6\",\"gridcolor\":\"white\",\"linecolor\":\"white\",\"showbackground\":true,\"ticks\":\"\",\"zerolinecolor\":\"white\",\"gridwidth\":2},\"zaxis\":{\"backgroundcolor\":\"#E5ECF6\",\"gridcolor\":\"white\",\"linecolor\":\"white\",\"showbackground\":true,\"ticks\":\"\",\"zerolinecolor\":\"white\",\"gridwidth\":2}},\"shapedefaults\":{\"line\":{\"color\":\"#2a3f5f\"}},\"annotationdefaults\":{\"arrowcolor\":\"#2a3f5f\",\"arrowhead\":0,\"arrowwidth\":1},\"geo\":{\"bgcolor\":\"white\",\"landcolor\":\"#E5ECF6\",\"subunitcolor\":\"white\",\"showland\":true,\"showlakes\":true,\"lakecolor\":\"white\"},\"title\":{\"x\":0.05},\"mapbox\":{\"style\":\"light\"}}},\"xaxis\":{\"anchor\":\"y\",\"domain\":[0.0,1.0],\"title\":{\"text\":\"Month\"}},\"yaxis\":{\"anchor\":\"x\",\"domain\":[0.0,1.0],\"title\":{\"text\":\"Page Load Time (seconds)\"}},\"legend\":{\"tracegroupgap\":0},\"title\":{\"text\":\"Page Load Time Trend Over Time\"}},                        {\"responsive\": true}                    ).then(function(){\n",
       "                            \n",
       "var gd = document.getElementById('dee1e3db-7b01-44c7-aec0-d1f3e20234e4');\n",
       "var x = new MutationObserver(function (mutations, observer) {{\n",
       "        var display = window.getComputedStyle(gd).display;\n",
       "        if (!display || display === 'none') {{\n",
       "            console.log([gd, 'removed!']);\n",
       "            Plotly.purge(gd);\n",
       "            observer.disconnect();\n",
       "        }}\n",
       "}});\n",
       "\n",
       "// Listen for the removal of the full notebook cells\n",
       "var notebookContainer = gd.closest('#notebook-container');\n",
       "if (notebookContainer) {{\n",
       "    x.observe(notebookContainer, {childList: true});\n",
       "}}\n",
       "\n",
       "// Listen for the clearing of the current output cell\n",
       "var outputEl = gd.closest('.output');\n",
       "if (outputEl) {{\n",
       "    x.observe(outputEl, {childList: true});\n",
       "}}\n",
       "\n",
       "                        })                };                });            </script>        </div>"
      ]
     },
     "metadata": {},
     "output_type": "display_data"
    }
   ],
   "source": [
    "line_chart = px.line(wdf, x='Month', y='Page_Load_Time', title='Page Load Time Trend Over Time')\n",
    "line_chart.update_xaxes(title_text='Month')\n",
    "line_chart.update_yaxes(title_text='Page Load Time (seconds)')"
   ]
  },
  {
   "cell_type": "code",
   "execution_count": 229,
   "id": "fd368b38",
   "metadata": {},
   "outputs": [
    {
     "data": {
      "application/vnd.plotly.v1+json": {
       "config": {
        "plotlyServerURL": "https://plot.ly"
       },
       "data": [
        {
         "alignmentgroup": "True",
         "hovertemplate": "variable=Bounce_Rate<br>Month=%{x}<br>value=%{y}<extra></extra>",
         "legendgroup": "Bounce_Rate",
         "marker": {
          "color": "#636efa",
          "pattern": {
           "shape": ""
          }
         },
         "name": "Bounce_Rate",
         "offsetgroup": "Bounce_Rate",
         "orientation": "v",
         "showlegend": true,
         "textposition": "auto",
         "type": "bar",
         "x": [
          "2023-01-01",
          "2023-02-01",
          "2023-03-01",
          "2023-04-01",
          "2023-05-01",
          "2023-06-01",
          "2023-07-01",
          "2023-08-01",
          "2023-09-01",
          "2023-10-01",
          "2023-11-01",
          "2023-12-01"
         ],
         "xaxis": "x",
         "y": [
          0.5143451942121444,
          0.3171572625265645,
          0.4809033206228257,
          0.4735721379056025,
          0.5424066750640227,
          0.4407146741865057,
          0.3900807064262301,
          0.4891651824096815,
          0.3016921514279811,
          0.5668426715481676,
          0.5265599886318659,
          0.3883638205920471
         ],
         "yaxis": "y"
        },
        {
         "alignmentgroup": "True",
         "hovertemplate": "variable=Conversion_Rate<br>Month=%{x}<br>value=%{y}<extra></extra>",
         "legendgroup": "Conversion_Rate",
         "marker": {
          "color": "#EF553B",
          "pattern": {
           "shape": ""
          }
         },
         "name": "Conversion_Rate",
         "offsetgroup": "Conversion_Rate",
         "orientation": "v",
         "showlegend": true,
         "textposition": "auto",
         "type": "bar",
         "x": [
          "2023-01-01",
          "2023-02-01",
          "2023-03-01",
          "2023-04-01",
          "2023-05-01",
          "2023-06-01",
          "2023-07-01",
          "2023-08-01",
          "2023-09-01",
          "2023-10-01",
          "2023-11-01",
          "2023-12-01"
         ],
         "xaxis": "x",
         "y": [
          0.047375251429879,
          0.0627638873027619,
          0.0505142520459576,
          0.0571506492901378,
          0.0895253422682924,
          0.0486874823544518,
          0.0484402021597198,
          0.0382626385837194,
          0.0633653293698199,
          0.0659713431567397,
          0.0657862118990295,
          0.0828281753066712
         ],
         "yaxis": "y"
        }
       ],
       "layout": {
        "barmode": "relative",
        "legend": {
         "title": {
          "text": "variable"
         },
         "tracegroupgap": 0
        },
        "template": {
         "data": {
          "bar": [
           {
            "error_x": {
             "color": "#2a3f5f"
            },
            "error_y": {
             "color": "#2a3f5f"
            },
            "marker": {
             "line": {
              "color": "#E5ECF6",
              "width": 0.5
             },
             "pattern": {
              "fillmode": "overlay",
              "size": 10,
              "solidity": 0.2
             }
            },
            "type": "bar"
           }
          ],
          "barpolar": [
           {
            "marker": {
             "line": {
              "color": "#E5ECF6",
              "width": 0.5
             },
             "pattern": {
              "fillmode": "overlay",
              "size": 10,
              "solidity": 0.2
             }
            },
            "type": "barpolar"
           }
          ],
          "carpet": [
           {
            "aaxis": {
             "endlinecolor": "#2a3f5f",
             "gridcolor": "white",
             "linecolor": "white",
             "minorgridcolor": "white",
             "startlinecolor": "#2a3f5f"
            },
            "baxis": {
             "endlinecolor": "#2a3f5f",
             "gridcolor": "white",
             "linecolor": "white",
             "minorgridcolor": "white",
             "startlinecolor": "#2a3f5f"
            },
            "type": "carpet"
           }
          ],
          "choropleth": [
           {
            "colorbar": {
             "outlinewidth": 0,
             "ticks": ""
            },
            "type": "choropleth"
           }
          ],
          "contour": [
           {
            "colorbar": {
             "outlinewidth": 0,
             "ticks": ""
            },
            "colorscale": [
             [
              0,
              "#0d0887"
             ],
             [
              0.1111111111111111,
              "#46039f"
             ],
             [
              0.2222222222222222,
              "#7201a8"
             ],
             [
              0.3333333333333333,
              "#9c179e"
             ],
             [
              0.4444444444444444,
              "#bd3786"
             ],
             [
              0.5555555555555556,
              "#d8576b"
             ],
             [
              0.6666666666666666,
              "#ed7953"
             ],
             [
              0.7777777777777778,
              "#fb9f3a"
             ],
             [
              0.8888888888888888,
              "#fdca26"
             ],
             [
              1,
              "#f0f921"
             ]
            ],
            "type": "contour"
           }
          ],
          "contourcarpet": [
           {
            "colorbar": {
             "outlinewidth": 0,
             "ticks": ""
            },
            "type": "contourcarpet"
           }
          ],
          "heatmap": [
           {
            "colorbar": {
             "outlinewidth": 0,
             "ticks": ""
            },
            "colorscale": [
             [
              0,
              "#0d0887"
             ],
             [
              0.1111111111111111,
              "#46039f"
             ],
             [
              0.2222222222222222,
              "#7201a8"
             ],
             [
              0.3333333333333333,
              "#9c179e"
             ],
             [
              0.4444444444444444,
              "#bd3786"
             ],
             [
              0.5555555555555556,
              "#d8576b"
             ],
             [
              0.6666666666666666,
              "#ed7953"
             ],
             [
              0.7777777777777778,
              "#fb9f3a"
             ],
             [
              0.8888888888888888,
              "#fdca26"
             ],
             [
              1,
              "#f0f921"
             ]
            ],
            "type": "heatmap"
           }
          ],
          "heatmapgl": [
           {
            "colorbar": {
             "outlinewidth": 0,
             "ticks": ""
            },
            "colorscale": [
             [
              0,
              "#0d0887"
             ],
             [
              0.1111111111111111,
              "#46039f"
             ],
             [
              0.2222222222222222,
              "#7201a8"
             ],
             [
              0.3333333333333333,
              "#9c179e"
             ],
             [
              0.4444444444444444,
              "#bd3786"
             ],
             [
              0.5555555555555556,
              "#d8576b"
             ],
             [
              0.6666666666666666,
              "#ed7953"
             ],
             [
              0.7777777777777778,
              "#fb9f3a"
             ],
             [
              0.8888888888888888,
              "#fdca26"
             ],
             [
              1,
              "#f0f921"
             ]
            ],
            "type": "heatmapgl"
           }
          ],
          "histogram": [
           {
            "marker": {
             "pattern": {
              "fillmode": "overlay",
              "size": 10,
              "solidity": 0.2
             }
            },
            "type": "histogram"
           }
          ],
          "histogram2d": [
           {
            "colorbar": {
             "outlinewidth": 0,
             "ticks": ""
            },
            "colorscale": [
             [
              0,
              "#0d0887"
             ],
             [
              0.1111111111111111,
              "#46039f"
             ],
             [
              0.2222222222222222,
              "#7201a8"
             ],
             [
              0.3333333333333333,
              "#9c179e"
             ],
             [
              0.4444444444444444,
              "#bd3786"
             ],
             [
              0.5555555555555556,
              "#d8576b"
             ],
             [
              0.6666666666666666,
              "#ed7953"
             ],
             [
              0.7777777777777778,
              "#fb9f3a"
             ],
             [
              0.8888888888888888,
              "#fdca26"
             ],
             [
              1,
              "#f0f921"
             ]
            ],
            "type": "histogram2d"
           }
          ],
          "histogram2dcontour": [
           {
            "colorbar": {
             "outlinewidth": 0,
             "ticks": ""
            },
            "colorscale": [
             [
              0,
              "#0d0887"
             ],
             [
              0.1111111111111111,
              "#46039f"
             ],
             [
              0.2222222222222222,
              "#7201a8"
             ],
             [
              0.3333333333333333,
              "#9c179e"
             ],
             [
              0.4444444444444444,
              "#bd3786"
             ],
             [
              0.5555555555555556,
              "#d8576b"
             ],
             [
              0.6666666666666666,
              "#ed7953"
             ],
             [
              0.7777777777777778,
              "#fb9f3a"
             ],
             [
              0.8888888888888888,
              "#fdca26"
             ],
             [
              1,
              "#f0f921"
             ]
            ],
            "type": "histogram2dcontour"
           }
          ],
          "mesh3d": [
           {
            "colorbar": {
             "outlinewidth": 0,
             "ticks": ""
            },
            "type": "mesh3d"
           }
          ],
          "parcoords": [
           {
            "line": {
             "colorbar": {
              "outlinewidth": 0,
              "ticks": ""
             }
            },
            "type": "parcoords"
           }
          ],
          "pie": [
           {
            "automargin": true,
            "type": "pie"
           }
          ],
          "scatter": [
           {
            "fillpattern": {
             "fillmode": "overlay",
             "size": 10,
             "solidity": 0.2
            },
            "type": "scatter"
           }
          ],
          "scatter3d": [
           {
            "line": {
             "colorbar": {
              "outlinewidth": 0,
              "ticks": ""
             }
            },
            "marker": {
             "colorbar": {
              "outlinewidth": 0,
              "ticks": ""
             }
            },
            "type": "scatter3d"
           }
          ],
          "scattercarpet": [
           {
            "marker": {
             "colorbar": {
              "outlinewidth": 0,
              "ticks": ""
             }
            },
            "type": "scattercarpet"
           }
          ],
          "scattergeo": [
           {
            "marker": {
             "colorbar": {
              "outlinewidth": 0,
              "ticks": ""
             }
            },
            "type": "scattergeo"
           }
          ],
          "scattergl": [
           {
            "marker": {
             "colorbar": {
              "outlinewidth": 0,
              "ticks": ""
             }
            },
            "type": "scattergl"
           }
          ],
          "scattermapbox": [
           {
            "marker": {
             "colorbar": {
              "outlinewidth": 0,
              "ticks": ""
             }
            },
            "type": "scattermapbox"
           }
          ],
          "scatterpolar": [
           {
            "marker": {
             "colorbar": {
              "outlinewidth": 0,
              "ticks": ""
             }
            },
            "type": "scatterpolar"
           }
          ],
          "scatterpolargl": [
           {
            "marker": {
             "colorbar": {
              "outlinewidth": 0,
              "ticks": ""
             }
            },
            "type": "scatterpolargl"
           }
          ],
          "scatterternary": [
           {
            "marker": {
             "colorbar": {
              "outlinewidth": 0,
              "ticks": ""
             }
            },
            "type": "scatterternary"
           }
          ],
          "surface": [
           {
            "colorbar": {
             "outlinewidth": 0,
             "ticks": ""
            },
            "colorscale": [
             [
              0,
              "#0d0887"
             ],
             [
              0.1111111111111111,
              "#46039f"
             ],
             [
              0.2222222222222222,
              "#7201a8"
             ],
             [
              0.3333333333333333,
              "#9c179e"
             ],
             [
              0.4444444444444444,
              "#bd3786"
             ],
             [
              0.5555555555555556,
              "#d8576b"
             ],
             [
              0.6666666666666666,
              "#ed7953"
             ],
             [
              0.7777777777777778,
              "#fb9f3a"
             ],
             [
              0.8888888888888888,
              "#fdca26"
             ],
             [
              1,
              "#f0f921"
             ]
            ],
            "type": "surface"
           }
          ],
          "table": [
           {
            "cells": {
             "fill": {
              "color": "#EBF0F8"
             },
             "line": {
              "color": "white"
             }
            },
            "header": {
             "fill": {
              "color": "#C8D4E3"
             },
             "line": {
              "color": "white"
             }
            },
            "type": "table"
           }
          ]
         },
         "layout": {
          "annotationdefaults": {
           "arrowcolor": "#2a3f5f",
           "arrowhead": 0,
           "arrowwidth": 1
          },
          "autotypenumbers": "strict",
          "coloraxis": {
           "colorbar": {
            "outlinewidth": 0,
            "ticks": ""
           }
          },
          "colorscale": {
           "diverging": [
            [
             0,
             "#8e0152"
            ],
            [
             0.1,
             "#c51b7d"
            ],
            [
             0.2,
             "#de77ae"
            ],
            [
             0.3,
             "#f1b6da"
            ],
            [
             0.4,
             "#fde0ef"
            ],
            [
             0.5,
             "#f7f7f7"
            ],
            [
             0.6,
             "#e6f5d0"
            ],
            [
             0.7,
             "#b8e186"
            ],
            [
             0.8,
             "#7fbc41"
            ],
            [
             0.9,
             "#4d9221"
            ],
            [
             1,
             "#276419"
            ]
           ],
           "sequential": [
            [
             0,
             "#0d0887"
            ],
            [
             0.1111111111111111,
             "#46039f"
            ],
            [
             0.2222222222222222,
             "#7201a8"
            ],
            [
             0.3333333333333333,
             "#9c179e"
            ],
            [
             0.4444444444444444,
             "#bd3786"
            ],
            [
             0.5555555555555556,
             "#d8576b"
            ],
            [
             0.6666666666666666,
             "#ed7953"
            ],
            [
             0.7777777777777778,
             "#fb9f3a"
            ],
            [
             0.8888888888888888,
             "#fdca26"
            ],
            [
             1,
             "#f0f921"
            ]
           ],
           "sequentialminus": [
            [
             0,
             "#0d0887"
            ],
            [
             0.1111111111111111,
             "#46039f"
            ],
            [
             0.2222222222222222,
             "#7201a8"
            ],
            [
             0.3333333333333333,
             "#9c179e"
            ],
            [
             0.4444444444444444,
             "#bd3786"
            ],
            [
             0.5555555555555556,
             "#d8576b"
            ],
            [
             0.6666666666666666,
             "#ed7953"
            ],
            [
             0.7777777777777778,
             "#fb9f3a"
            ],
            [
             0.8888888888888888,
             "#fdca26"
            ],
            [
             1,
             "#f0f921"
            ]
           ]
          },
          "colorway": [
           "#636efa",
           "#EF553B",
           "#00cc96",
           "#ab63fa",
           "#FFA15A",
           "#19d3f3",
           "#FF6692",
           "#B6E880",
           "#FF97FF",
           "#FECB52"
          ],
          "font": {
           "color": "#2a3f5f"
          },
          "geo": {
           "bgcolor": "white",
           "lakecolor": "white",
           "landcolor": "#E5ECF6",
           "showlakes": true,
           "showland": true,
           "subunitcolor": "white"
          },
          "hoverlabel": {
           "align": "left"
          },
          "hovermode": "closest",
          "mapbox": {
           "style": "light"
          },
          "paper_bgcolor": "white",
          "plot_bgcolor": "#E5ECF6",
          "polar": {
           "angularaxis": {
            "gridcolor": "white",
            "linecolor": "white",
            "ticks": ""
           },
           "bgcolor": "#E5ECF6",
           "radialaxis": {
            "gridcolor": "white",
            "linecolor": "white",
            "ticks": ""
           }
          },
          "scene": {
           "xaxis": {
            "backgroundcolor": "#E5ECF6",
            "gridcolor": "white",
            "gridwidth": 2,
            "linecolor": "white",
            "showbackground": true,
            "ticks": "",
            "zerolinecolor": "white"
           },
           "yaxis": {
            "backgroundcolor": "#E5ECF6",
            "gridcolor": "white",
            "gridwidth": 2,
            "linecolor": "white",
            "showbackground": true,
            "ticks": "",
            "zerolinecolor": "white"
           },
           "zaxis": {
            "backgroundcolor": "#E5ECF6",
            "gridcolor": "white",
            "gridwidth": 2,
            "linecolor": "white",
            "showbackground": true,
            "ticks": "",
            "zerolinecolor": "white"
           }
          },
          "shapedefaults": {
           "line": {
            "color": "#2a3f5f"
           }
          },
          "ternary": {
           "aaxis": {
            "gridcolor": "white",
            "linecolor": "white",
            "ticks": ""
           },
           "baxis": {
            "gridcolor": "white",
            "linecolor": "white",
            "ticks": ""
           },
           "bgcolor": "#E5ECF6",
           "caxis": {
            "gridcolor": "white",
            "linecolor": "white",
            "ticks": ""
           }
          },
          "title": {
           "x": 0.05
          },
          "xaxis": {
           "automargin": true,
           "gridcolor": "white",
           "linecolor": "white",
           "ticks": "",
           "title": {
            "standoff": 15
           },
           "zerolinecolor": "white",
           "zerolinewidth": 2
          },
          "yaxis": {
           "automargin": true,
           "gridcolor": "white",
           "linecolor": "white",
           "ticks": "",
           "title": {
            "standoff": 15
           },
           "zerolinecolor": "white",
           "zerolinewidth": 2
          }
         }
        },
        "title": {
         "text": "Bounce Rate vs. Conversion Rate Across Months"
        },
        "xaxis": {
         "anchor": "y",
         "domain": [
          0,
          1
         ],
         "title": {
          "text": "Month"
         }
        },
        "yaxis": {
         "anchor": "x",
         "domain": [
          0,
          1
         ],
         "title": {
          "text": "Percentage"
         }
        }
       }
      },
      "text/html": [
       "<div>                            <div id=\"b68a259e-5b94-492f-9691-530ccd934539\" class=\"plotly-graph-div\" style=\"height:525px; width:100%;\"></div>            <script type=\"text/javascript\">                require([\"plotly\"], function(Plotly) {                    window.PLOTLYENV=window.PLOTLYENV || {};                                    if (document.getElementById(\"b68a259e-5b94-492f-9691-530ccd934539\")) {                    Plotly.newPlot(                        \"b68a259e-5b94-492f-9691-530ccd934539\",                        [{\"alignmentgroup\":\"True\",\"hovertemplate\":\"variable=Bounce_Rate\\u003cbr\\u003eMonth=%{x}\\u003cbr\\u003evalue=%{y}\\u003cextra\\u003e\\u003c\\u002fextra\\u003e\",\"legendgroup\":\"Bounce_Rate\",\"marker\":{\"color\":\"#636efa\",\"pattern\":{\"shape\":\"\"}},\"name\":\"Bounce_Rate\",\"offsetgroup\":\"Bounce_Rate\",\"orientation\":\"v\",\"showlegend\":true,\"textposition\":\"auto\",\"x\":[\"2023-01-01\",\"2023-02-01\",\"2023-03-01\",\"2023-04-01\",\"2023-05-01\",\"2023-06-01\",\"2023-07-01\",\"2023-08-01\",\"2023-09-01\",\"2023-10-01\",\"2023-11-01\",\"2023-12-01\"],\"xaxis\":\"x\",\"y\":[0.5143451942121444,0.3171572625265645,0.4809033206228257,0.4735721379056025,0.5424066750640227,0.4407146741865057,0.3900807064262301,0.4891651824096815,0.3016921514279811,0.5668426715481676,0.5265599886318659,0.3883638205920471],\"yaxis\":\"y\",\"type\":\"bar\"},{\"alignmentgroup\":\"True\",\"hovertemplate\":\"variable=Conversion_Rate\\u003cbr\\u003eMonth=%{x}\\u003cbr\\u003evalue=%{y}\\u003cextra\\u003e\\u003c\\u002fextra\\u003e\",\"legendgroup\":\"Conversion_Rate\",\"marker\":{\"color\":\"#EF553B\",\"pattern\":{\"shape\":\"\"}},\"name\":\"Conversion_Rate\",\"offsetgroup\":\"Conversion_Rate\",\"orientation\":\"v\",\"showlegend\":true,\"textposition\":\"auto\",\"x\":[\"2023-01-01\",\"2023-02-01\",\"2023-03-01\",\"2023-04-01\",\"2023-05-01\",\"2023-06-01\",\"2023-07-01\",\"2023-08-01\",\"2023-09-01\",\"2023-10-01\",\"2023-11-01\",\"2023-12-01\"],\"xaxis\":\"x\",\"y\":[0.047375251429879,0.0627638873027619,0.0505142520459576,0.0571506492901378,0.0895253422682924,0.0486874823544518,0.0484402021597198,0.0382626385837194,0.0633653293698199,0.0659713431567397,0.0657862118990295,0.0828281753066712],\"yaxis\":\"y\",\"type\":\"bar\"}],                        {\"template\":{\"data\":{\"histogram2dcontour\":[{\"type\":\"histogram2dcontour\",\"colorbar\":{\"outlinewidth\":0,\"ticks\":\"\"},\"colorscale\":[[0.0,\"#0d0887\"],[0.1111111111111111,\"#46039f\"],[0.2222222222222222,\"#7201a8\"],[0.3333333333333333,\"#9c179e\"],[0.4444444444444444,\"#bd3786\"],[0.5555555555555556,\"#d8576b\"],[0.6666666666666666,\"#ed7953\"],[0.7777777777777778,\"#fb9f3a\"],[0.8888888888888888,\"#fdca26\"],[1.0,\"#f0f921\"]]}],\"choropleth\":[{\"type\":\"choropleth\",\"colorbar\":{\"outlinewidth\":0,\"ticks\":\"\"}}],\"histogram2d\":[{\"type\":\"histogram2d\",\"colorbar\":{\"outlinewidth\":0,\"ticks\":\"\"},\"colorscale\":[[0.0,\"#0d0887\"],[0.1111111111111111,\"#46039f\"],[0.2222222222222222,\"#7201a8\"],[0.3333333333333333,\"#9c179e\"],[0.4444444444444444,\"#bd3786\"],[0.5555555555555556,\"#d8576b\"],[0.6666666666666666,\"#ed7953\"],[0.7777777777777778,\"#fb9f3a\"],[0.8888888888888888,\"#fdca26\"],[1.0,\"#f0f921\"]]}],\"heatmap\":[{\"type\":\"heatmap\",\"colorbar\":{\"outlinewidth\":0,\"ticks\":\"\"},\"colorscale\":[[0.0,\"#0d0887\"],[0.1111111111111111,\"#46039f\"],[0.2222222222222222,\"#7201a8\"],[0.3333333333333333,\"#9c179e\"],[0.4444444444444444,\"#bd3786\"],[0.5555555555555556,\"#d8576b\"],[0.6666666666666666,\"#ed7953\"],[0.7777777777777778,\"#fb9f3a\"],[0.8888888888888888,\"#fdca26\"],[1.0,\"#f0f921\"]]}],\"heatmapgl\":[{\"type\":\"heatmapgl\",\"colorbar\":{\"outlinewidth\":0,\"ticks\":\"\"},\"colorscale\":[[0.0,\"#0d0887\"],[0.1111111111111111,\"#46039f\"],[0.2222222222222222,\"#7201a8\"],[0.3333333333333333,\"#9c179e\"],[0.4444444444444444,\"#bd3786\"],[0.5555555555555556,\"#d8576b\"],[0.6666666666666666,\"#ed7953\"],[0.7777777777777778,\"#fb9f3a\"],[0.8888888888888888,\"#fdca26\"],[1.0,\"#f0f921\"]]}],\"contourcarpet\":[{\"type\":\"contourcarpet\",\"colorbar\":{\"outlinewidth\":0,\"ticks\":\"\"}}],\"contour\":[{\"type\":\"contour\",\"colorbar\":{\"outlinewidth\":0,\"ticks\":\"\"},\"colorscale\":[[0.0,\"#0d0887\"],[0.1111111111111111,\"#46039f\"],[0.2222222222222222,\"#7201a8\"],[0.3333333333333333,\"#9c179e\"],[0.4444444444444444,\"#bd3786\"],[0.5555555555555556,\"#d8576b\"],[0.6666666666666666,\"#ed7953\"],[0.7777777777777778,\"#fb9f3a\"],[0.8888888888888888,\"#fdca26\"],[1.0,\"#f0f921\"]]}],\"surface\":[{\"type\":\"surface\",\"colorbar\":{\"outlinewidth\":0,\"ticks\":\"\"},\"colorscale\":[[0.0,\"#0d0887\"],[0.1111111111111111,\"#46039f\"],[0.2222222222222222,\"#7201a8\"],[0.3333333333333333,\"#9c179e\"],[0.4444444444444444,\"#bd3786\"],[0.5555555555555556,\"#d8576b\"],[0.6666666666666666,\"#ed7953\"],[0.7777777777777778,\"#fb9f3a\"],[0.8888888888888888,\"#fdca26\"],[1.0,\"#f0f921\"]]}],\"mesh3d\":[{\"type\":\"mesh3d\",\"colorbar\":{\"outlinewidth\":0,\"ticks\":\"\"}}],\"scatter\":[{\"fillpattern\":{\"fillmode\":\"overlay\",\"size\":10,\"solidity\":0.2},\"type\":\"scatter\"}],\"parcoords\":[{\"type\":\"parcoords\",\"line\":{\"colorbar\":{\"outlinewidth\":0,\"ticks\":\"\"}}}],\"scatterpolargl\":[{\"type\":\"scatterpolargl\",\"marker\":{\"colorbar\":{\"outlinewidth\":0,\"ticks\":\"\"}}}],\"bar\":[{\"error_x\":{\"color\":\"#2a3f5f\"},\"error_y\":{\"color\":\"#2a3f5f\"},\"marker\":{\"line\":{\"color\":\"#E5ECF6\",\"width\":0.5},\"pattern\":{\"fillmode\":\"overlay\",\"size\":10,\"solidity\":0.2}},\"type\":\"bar\"}],\"scattergeo\":[{\"type\":\"scattergeo\",\"marker\":{\"colorbar\":{\"outlinewidth\":0,\"ticks\":\"\"}}}],\"scatterpolar\":[{\"type\":\"scatterpolar\",\"marker\":{\"colorbar\":{\"outlinewidth\":0,\"ticks\":\"\"}}}],\"histogram\":[{\"marker\":{\"pattern\":{\"fillmode\":\"overlay\",\"size\":10,\"solidity\":0.2}},\"type\":\"histogram\"}],\"scattergl\":[{\"type\":\"scattergl\",\"marker\":{\"colorbar\":{\"outlinewidth\":0,\"ticks\":\"\"}}}],\"scatter3d\":[{\"type\":\"scatter3d\",\"line\":{\"colorbar\":{\"outlinewidth\":0,\"ticks\":\"\"}},\"marker\":{\"colorbar\":{\"outlinewidth\":0,\"ticks\":\"\"}}}],\"scattermapbox\":[{\"type\":\"scattermapbox\",\"marker\":{\"colorbar\":{\"outlinewidth\":0,\"ticks\":\"\"}}}],\"scatterternary\":[{\"type\":\"scatterternary\",\"marker\":{\"colorbar\":{\"outlinewidth\":0,\"ticks\":\"\"}}}],\"scattercarpet\":[{\"type\":\"scattercarpet\",\"marker\":{\"colorbar\":{\"outlinewidth\":0,\"ticks\":\"\"}}}],\"carpet\":[{\"aaxis\":{\"endlinecolor\":\"#2a3f5f\",\"gridcolor\":\"white\",\"linecolor\":\"white\",\"minorgridcolor\":\"white\",\"startlinecolor\":\"#2a3f5f\"},\"baxis\":{\"endlinecolor\":\"#2a3f5f\",\"gridcolor\":\"white\",\"linecolor\":\"white\",\"minorgridcolor\":\"white\",\"startlinecolor\":\"#2a3f5f\"},\"type\":\"carpet\"}],\"table\":[{\"cells\":{\"fill\":{\"color\":\"#EBF0F8\"},\"line\":{\"color\":\"white\"}},\"header\":{\"fill\":{\"color\":\"#C8D4E3\"},\"line\":{\"color\":\"white\"}},\"type\":\"table\"}],\"barpolar\":[{\"marker\":{\"line\":{\"color\":\"#E5ECF6\",\"width\":0.5},\"pattern\":{\"fillmode\":\"overlay\",\"size\":10,\"solidity\":0.2}},\"type\":\"barpolar\"}],\"pie\":[{\"automargin\":true,\"type\":\"pie\"}]},\"layout\":{\"autotypenumbers\":\"strict\",\"colorway\":[\"#636efa\",\"#EF553B\",\"#00cc96\",\"#ab63fa\",\"#FFA15A\",\"#19d3f3\",\"#FF6692\",\"#B6E880\",\"#FF97FF\",\"#FECB52\"],\"font\":{\"color\":\"#2a3f5f\"},\"hovermode\":\"closest\",\"hoverlabel\":{\"align\":\"left\"},\"paper_bgcolor\":\"white\",\"plot_bgcolor\":\"#E5ECF6\",\"polar\":{\"bgcolor\":\"#E5ECF6\",\"angularaxis\":{\"gridcolor\":\"white\",\"linecolor\":\"white\",\"ticks\":\"\"},\"radialaxis\":{\"gridcolor\":\"white\",\"linecolor\":\"white\",\"ticks\":\"\"}},\"ternary\":{\"bgcolor\":\"#E5ECF6\",\"aaxis\":{\"gridcolor\":\"white\",\"linecolor\":\"white\",\"ticks\":\"\"},\"baxis\":{\"gridcolor\":\"white\",\"linecolor\":\"white\",\"ticks\":\"\"},\"caxis\":{\"gridcolor\":\"white\",\"linecolor\":\"white\",\"ticks\":\"\"}},\"coloraxis\":{\"colorbar\":{\"outlinewidth\":0,\"ticks\":\"\"}},\"colorscale\":{\"sequential\":[[0.0,\"#0d0887\"],[0.1111111111111111,\"#46039f\"],[0.2222222222222222,\"#7201a8\"],[0.3333333333333333,\"#9c179e\"],[0.4444444444444444,\"#bd3786\"],[0.5555555555555556,\"#d8576b\"],[0.6666666666666666,\"#ed7953\"],[0.7777777777777778,\"#fb9f3a\"],[0.8888888888888888,\"#fdca26\"],[1.0,\"#f0f921\"]],\"sequentialminus\":[[0.0,\"#0d0887\"],[0.1111111111111111,\"#46039f\"],[0.2222222222222222,\"#7201a8\"],[0.3333333333333333,\"#9c179e\"],[0.4444444444444444,\"#bd3786\"],[0.5555555555555556,\"#d8576b\"],[0.6666666666666666,\"#ed7953\"],[0.7777777777777778,\"#fb9f3a\"],[0.8888888888888888,\"#fdca26\"],[1.0,\"#f0f921\"]],\"diverging\":[[0,\"#8e0152\"],[0.1,\"#c51b7d\"],[0.2,\"#de77ae\"],[0.3,\"#f1b6da\"],[0.4,\"#fde0ef\"],[0.5,\"#f7f7f7\"],[0.6,\"#e6f5d0\"],[0.7,\"#b8e186\"],[0.8,\"#7fbc41\"],[0.9,\"#4d9221\"],[1,\"#276419\"]]},\"xaxis\":{\"gridcolor\":\"white\",\"linecolor\":\"white\",\"ticks\":\"\",\"title\":{\"standoff\":15},\"zerolinecolor\":\"white\",\"automargin\":true,\"zerolinewidth\":2},\"yaxis\":{\"gridcolor\":\"white\",\"linecolor\":\"white\",\"ticks\":\"\",\"title\":{\"standoff\":15},\"zerolinecolor\":\"white\",\"automargin\":true,\"zerolinewidth\":2},\"scene\":{\"xaxis\":{\"backgroundcolor\":\"#E5ECF6\",\"gridcolor\":\"white\",\"linecolor\":\"white\",\"showbackground\":true,\"ticks\":\"\",\"zerolinecolor\":\"white\",\"gridwidth\":2},\"yaxis\":{\"backgroundcolor\":\"#E5ECF6\",\"gridcolor\":\"white\",\"linecolor\":\"white\",\"showbackground\":true,\"ticks\":\"\",\"zerolinecolor\":\"white\",\"gridwidth\":2},\"zaxis\":{\"backgroundcolor\":\"#E5ECF6\",\"gridcolor\":\"white\",\"linecolor\":\"white\",\"showbackground\":true,\"ticks\":\"\",\"zerolinecolor\":\"white\",\"gridwidth\":2}},\"shapedefaults\":{\"line\":{\"color\":\"#2a3f5f\"}},\"annotationdefaults\":{\"arrowcolor\":\"#2a3f5f\",\"arrowhead\":0,\"arrowwidth\":1},\"geo\":{\"bgcolor\":\"white\",\"landcolor\":\"#E5ECF6\",\"subunitcolor\":\"white\",\"showland\":true,\"showlakes\":true,\"lakecolor\":\"white\"},\"title\":{\"x\":0.05},\"mapbox\":{\"style\":\"light\"}}},\"xaxis\":{\"anchor\":\"y\",\"domain\":[0.0,1.0],\"title\":{\"text\":\"Month\"}},\"yaxis\":{\"anchor\":\"x\",\"domain\":[0.0,1.0],\"title\":{\"text\":\"Percentage\"}},\"legend\":{\"title\":{\"text\":\"variable\"},\"tracegroupgap\":0},\"title\":{\"text\":\"Bounce Rate vs. Conversion Rate Across Months\"},\"barmode\":\"relative\"},                        {\"responsive\": true}                    ).then(function(){\n",
       "                            \n",
       "var gd = document.getElementById('b68a259e-5b94-492f-9691-530ccd934539');\n",
       "var x = new MutationObserver(function (mutations, observer) {{\n",
       "        var display = window.getComputedStyle(gd).display;\n",
       "        if (!display || display === 'none') {{\n",
       "            console.log([gd, 'removed!']);\n",
       "            Plotly.purge(gd);\n",
       "            observer.disconnect();\n",
       "        }}\n",
       "}});\n",
       "\n",
       "// Listen for the removal of the full notebook cells\n",
       "var notebookContainer = gd.closest('#notebook-container');\n",
       "if (notebookContainer) {{\n",
       "    x.observe(notebookContainer, {childList: true});\n",
       "}}\n",
       "\n",
       "// Listen for the clearing of the current output cell\n",
       "var outputEl = gd.closest('.output');\n",
       "if (outputEl) {{\n",
       "    x.observe(outputEl, {childList: true});\n",
       "}}\n",
       "\n",
       "                        })                };                });            </script>        </div>"
      ]
     },
     "metadata": {},
     "output_type": "display_data"
    }
   ],
   "source": [
    "bar_chart = px.bar(wdf, x='Month', y=['Bounce_Rate', 'Conversion_Rate'],\n",
    "                   title='Bounce Rate vs. Conversion Rate Across Months')\n",
    "bar_chart.update_xaxes(title_text='Month')\n",
    "bar_chart.update_yaxes(title_text='Percentage')"
   ]
  },
  {
   "cell_type": "markdown",
   "id": "618618ce",
   "metadata": {},
   "source": [
    "Reminder:\n",
    "My Localhost for the app - http://127.0.0.1:8050/"
   ]
  }
 ],
 "metadata": {
  "kernelspec": {
   "display_name": "Python 3 (ipykernel)",
   "language": "python",
   "name": "python3"
  },
  "language_info": {
   "codemirror_mode": {
    "name": "ipython",
    "version": 3
   },
   "file_extension": ".py",
   "mimetype": "text/x-python",
   "name": "python",
   "nbconvert_exporter": "python",
   "pygments_lexer": "ipython3",
   "version": "3.11.2"
  }
 },
 "nbformat": 4,
 "nbformat_minor": 5
}
